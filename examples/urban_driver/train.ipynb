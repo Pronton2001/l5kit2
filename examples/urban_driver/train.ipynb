{
 "cells": [
  {
   "cell_type": "markdown",
   "metadata": {
    "slideshow": {
     "slide_type": "slide"
    }
   },
   "source": [
    "# Introduction to Urban Driver\n",
    "\n",
    "In this notebook you are going to train the planner introduced in [Urban Driver: Learning to Drive from Real-world Demonstrations Using Policy Gradients](https://openreview.net/pdf?id=ibktAcINCaj).\n",
    "\n",
    "You will train your model using the Woven Planet Prediction Dataset and [L5Kit](https://github.com/woven-planet/l5kit).\n",
    "**Before starting, please download the [Woven Planet Prediction Dataset 2020](https://self-driving.lyft.com/level5/prediction/) and follow [the instructions](https://github.com/woven-planet/l5kit#download-the-datasets) to correctly organise it.**\n",
    "\n",
    "### Model\n",
    "\n",
    "From the paper:\n",
    "```\n",
    "We use a graph neural network for parametrizing our policy.\n",
    "It combines a PointNet-like architecture for local inputs processing followed by an attention mechanism for global reasoning. In contrast to VectorNet, we use points instead of vectors. Given the set of points corresponding to each input element, we employ 3 PointNet layers to calculate a 128-dimensional feature descriptor. Subsequently, a single layer of scaled dot-product attention performs global feature aggregation, yielding the predicted trajectory. [...] In total, our model contains around 3.5 million trainable parameters, and training takes 30h on 32 Tesla V100 GPUs. For more details we refer to Appendix C.\n",
    "```\n",
    "We also report a diagram of the full model:\n",
    "\n",
    "![model](../../docs/images/urban_driver/model.svg)\n",
    "\n",
    "\n",
    "#### Inputs\n",
    "Urban Driver is based on a vectorized representation of the world. From the paper:\n",
    "```\n",
    "We define the state as the whole set of static and dynamic elements the model receive as input. Each element is composed of a variable number of points, which can represent both time (e.g. for agents) and space (e.g. for lanes). The number of features per point depends on the element type. We pad all features to a fixed size F to ensure they can share the first fully connected layer. We include all elements up to the listed maximal number in a circular FOV of radius 35m around the SDV. Note that for performance and simplicity we only execute this query once, and then unroll within this world state.\n",
    "```\n",
    "\n",
    "In more details:\n",
    "\n",
    "\n",
    "| State element(s) | Elements per state | Points per element | Point features description                                                               |\n",
    "|------------------|--------------------|--------------------|------------------------------------------------------------------------------------------|\n",
    "| SDV              | 1                  | 4                  | SDV's X, Y and yaw pose of the current time step, as well as previous timesteps          |\n",
    "| Agents           | up to 30           | 4                  | other agents' X, Y and yaw poses of the current time step, as well as previous timesteps |\n",
    "| Lanes mid        | up to 30           | 20                 | interpolated X, Y points of the lanes' center lines, with optional traffic light signals |\n",
    "| Lanes left       | up to 30           | 20                 | interpolated X, Y points of the left lane boundaries                                     |\n",
    "| Lanes right      | up to 30           | 20                 | interpolated X, Y points of the right lane boundaries                                    |\n",
    "| Crosswalks       | up to 20           | up to 20           | crosswalks' polygon boundaries - X, Y                                                    |\n",
    "\n",
    "\n",
    "\n",
    "#### Outputs\n",
    "Urban Driver outputs the next positions and orientations of the SDV. Each timestep is a tuple consisting of `(X, Y, yaw)`.\n",
    "\n",
    "### Training in closed loop\n",
    "One of the main features of Urban Driver is how it is trained; from the paper:\n",
    "```\n",
    "[...] we then train a policy network in closed-loop employing policy gradients.\n",
    "We train our proposed method on 100 hours of expert demonstrations on urban roads and show that it learns complex driving policies that generalize well and can perform a variety of driving maneuvers\n",
    "```\n",
    "\n",
    "When training in closed-loop, the model does not predict all timesteps at once, but instead predicts one action at a time and use that action to perform a step in the surrounding environment before repeating the process. This allows the model to capture how the environment evolves as it takes decisions.\n",
    "\n",
    "Compare Figure 3 from the original paper:\n",
    "\n",
    "![model](../../docs/images/urban_driver/method.png)\n",
    "\n",
    "```\n",
    "One iteration of policy gradient update. Given a real-world expert trajectory we sample a policy state by unrolling the policy for T steps. We then compute optimal policy update by backpropagation through time.\n",
    "```\n",
    "\n",
    "\n",
    "Closed-loop training has two major advantages:\n",
    "- reducing the domain shift between training and evaluation;\n",
    "- replacing hand-crafted off-policy perturbations with on-policy perturbations generated by the model itself\n",
    "\n",
    "Again from the paper:\n",
    "```\n",
    "[...] reports performance when all methods are trained to optimize the imitation loss alone. Behavioral cloning yields a high number of trajectory errors and collisions. This is expected, as this approach is known to suffer from the issue of covariate shift \n",
    "```"
   ]
  },
  {
   "cell_type": "code",
   "execution_count": 1,
   "metadata": {},
   "outputs": [],
   "source": [
    "import os\n",
    "\n",
    "from matplotlib import pyplot as plt\n",
    "import numpy as np\n",
    "import torch\n",
    "from torch import nn, optim\n",
    "from torch.utils.data import DataLoader\n",
    "from tqdm import tqdm\n",
    "from tempfile import gettempdir\n",
    "\n",
    "from l5kit.configs import load_config_data\n",
    "from l5kit.data import ChunkedDataset, LocalDataManager\n",
    "from l5kit.dataset import EgoDatasetVectorized\n",
    "from l5kit.planning.vectorized.closed_loop_model import VectorizedUnrollModel\n",
    "from l5kit.planning.vectorized.open_loop_model import VectorizedModel, CustomVectorizedModel\n",
    "from l5kit.vectorization.vectorizer_builder import build_vectorizer"
   ]
  },
  {
   "cell_type": "markdown",
   "metadata": {},
   "source": [
    "## Prepare data path and load cfg\n",
    "\n",
    "By setting the `L5KIT_DATA_FOLDER` variable, we can point the script to the folder where the data lies.\n",
    "\n",
    "Then, we load our config file with relative paths and other configurations (rasteriser, training params...)."
   ]
  },
  {
   "cell_type": "code",
   "execution_count": 2,
   "metadata": {},
   "outputs": [
    {
     "name": "stdout",
     "output_type": "stream",
     "text": [
      "Not running in Google Colab.\n"
     ]
    }
   ],
   "source": [
    "#@title Download L5 Sample Dataset and install L5Kit\n",
    "import os\n",
    "RunningInCOLAB = 'google.colab' in str(get_ipython())\n",
    "if RunningInCOLAB:\n",
    "    !wget https://raw.githubusercontent.com/lyft/l5kit/master/examples/setup_notebook_colab.sh -q\n",
    "    !sh ./setup_notebook_colab.sh\n",
    "    os.environ[\"L5KIT_DATA_FOLDER\"] = open(\"./dataset_dir.txt\", \"r\").read().strip()\n",
    "else:\n",
    "    print(\"Not running in Google Colab.\")\n",
    "    os.environ[\"L5KIT_DATA_FOLDER\"] = \"/home/pronton/rl/l5kit_dataset/\""
   ]
  },
  {
   "cell_type": "code",
   "execution_count": 3,
   "metadata": {},
   "outputs": [],
   "source": [
    "dm = LocalDataManager(None)\n",
    "# get config\n",
    "cfg = load_config_data(\"./config.yaml\")"
   ]
  },
  {
   "cell_type": "code",
   "execution_count": 4,
   "metadata": {},
   "outputs": [
    {
     "name": "stdout",
     "output_type": "stream",
     "text": [
      "+------------+------------+------------+---------------+-----------------+----------------------+----------------------+----------------------+---------------------+\n",
      "| Num Scenes | Num Frames | Num Agents | Num TR lights | Total Time (hr) | Avg Frames per Scene | Avg Agents per Frame | Avg Scene Time (sec) | Avg Frame frequency |\n",
      "+------------+------------+------------+---------------+-----------------+----------------------+----------------------+----------------------+---------------------+\n",
      "|    100     |   24838    |  1893736   |     316008    |       0.69      |        248.38        |        76.24         |        24.83         |        10.00        |\n",
      "+------------+------------+------------+---------------+-----------------+----------------------+----------------------+----------------------+---------------------+\n"
     ]
    }
   ],
   "source": [
    "# ===== INIT DATASET\n",
    "train_zarr = ChunkedDataset(dm.require(cfg[\"train_data_loader\"][\"key\"])).open()\n",
    "\n",
    "vectorizer = build_vectorizer(cfg, dm)\n",
    "train_dataset = EgoDatasetVectorized(cfg, train_zarr, vectorizer)\n",
    "print(train_dataset)"
   ]
  },
  {
   "cell_type": "markdown",
   "metadata": {},
   "source": [
    "# Choosing the model\n",
    "\n",
    "You can use this notebook to train not only Urban Driver, but also several ablations included in the paper. We provide the following options:\n",
    "- Urban Driver: this is the default value and the model presented in the paper;\n",
    "- Urban Driver without BPTT: this is an ablation of Urban Driver where we detach the gradient between steps;\n",
    "- Open Loop Planner: this is vectorized model trained with simple behavioural cloning;\n",
    "\n",
    "We now detail which config changes are necessary to obtain the baseline models - note that these are also required when loading pre-trained models for evaluation:\n",
    "\n",
    "| Model     | Changes to config |\n",
    "| ----------- | ----------- |\n",
    "| Open Loop Planner  (BC-perturb)   | - history_num_frames_ego: 0 |\n",
    "| Open Loop Planner with Ego History  (BC-perturb) | None  |\n",
    "| Urban Driver without BPTT (MS Prediction)   | - future_num_frames: 32 <br/> - warmup_num_frames: 20|\n",
    "| Urban Driver without BPTT (Ours)   | - future_num_frames: 32 <br/> - warmup_num_frames: 20 <br/> - detach_unroll: False|"
   ]
  },
  {
   "cell_type": "code",
   "execution_count": 5,
   "metadata": {},
   "outputs": [],
   "source": [
    "URBAN_DRIVER = \"Urban Driver\"\n",
    "OPEN_LOOP_PLANNER = \"Open Loop Planner\"\n",
    "CUSTOM_RL_MODEL = \"RL Planner\""
   ]
  },
  {
   "cell_type": "code",
   "execution_count": 6,
   "metadata": {},
   "outputs": [],
   "source": [
    "model_name = CUSTOM_RL_MODEL\n",
    "\n",
    "weights_scaling = [1.0, 1.0, 1.0]\n",
    "\n",
    "_num_predicted_frames = cfg[\"model_params\"][\"future_num_frames\"]\n",
    "_num_predicted_params = len(weights_scaling)\n",
    "\n",
    "\n",
    "if model_name == URBAN_DRIVER:\n",
    "    model = VectorizedUnrollModel(\n",
    "        history_num_frames_ego=cfg[\"model_params\"][\"history_num_frames_ego\"],\n",
    "        history_num_frames_agents=cfg[\"model_params\"][\"history_num_frames_agents\"],\n",
    "        num_targets=_num_predicted_params * _num_predicted_frames,\n",
    "        weights_scaling=weights_scaling,\n",
    "        criterion=nn.L1Loss(reduction=\"none\"),\n",
    "        global_head_dropout=cfg[\"model_params\"][\"global_head_dropout\"],\n",
    "        disable_other_agents=cfg[\"model_params\"][\"disable_other_agents\"],\n",
    "        disable_map=cfg[\"model_params\"][\"disable_map\"],\n",
    "        disable_lane_boundaries=cfg[\"model_params\"][\"disable_lane_boundaries\"],\n",
    "        detach_unroll=cfg[\"model_params\"][\"detach_unroll\"],\n",
    "        warmup_num_frames=cfg[\"model_params\"][\"warmup_num_frames\"],\n",
    "        discount_factor=cfg[\"model_params\"][\"discount_factor\"],\n",
    "    )\n",
    "\n",
    "elif model_name == OPEN_LOOP_PLANNER:\n",
    "    model = VectorizedModel(\n",
    "        history_num_frames_ego=cfg[\"model_params\"][\"history_num_frames_ego\"],\n",
    "        history_num_frames_agents=cfg[\"model_params\"][\"history_num_frames_agents\"],\n",
    "        num_targets=_num_predicted_params * _num_predicted_frames,\n",
    "        weights_scaling=weights_scaling,\n",
    "        criterion=nn.L1Loss(reduction=\"none\"),\n",
    "        global_head_dropout=cfg[\"model_params\"][\"global_head_dropout\"],\n",
    "        disable_other_agents=cfg[\"model_params\"][\"disable_other_agents\"],\n",
    "        disable_map=cfg[\"model_params\"][\"disable_map\"],\n",
    "        disable_lane_boundaries=cfg[\"model_params\"][\"disable_lane_boundaries\"],\n",
    "    )\n",
    "elif model_name == CUSTOM_RL_MODEL:\n",
    "    model= CustomVectorizedModel(\n",
    "            history_num_frames_ego=cfg[\"model_params\"][\"history_num_frames_ego\"],\n",
    "            history_num_frames_agents=cfg[\"model_params\"][\"history_num_frames_agents\"],\n",
    "            global_head_dropout=cfg[\"model_params\"][\"global_head_dropout\"],\n",
    "            disable_other_agents=cfg[\"model_params\"][\"disable_other_agents\"],\n",
    "            disable_map=cfg[\"model_params\"][\"disable_map\"],\n",
    "            disable_lane_boundaries=cfg[\"model_params\"][\"disable_lane_boundaries\"])\n",
    "else:\n",
    "    raise ValueError(f\"{model_name=} is invalid\")\n"
   ]
  },
  {
   "cell_type": "markdown",
   "metadata": {},
   "source": [
    "# Prepare for training\n",
    "Our `EgoDatasetVectorized` inherits from PyTorch `Dataset`; so we can use it inside a `Dataloader` to enable multi-processing."
   ]
  },
  {
   "cell_type": "code",
   "execution_count": 7,
   "metadata": {},
   "outputs": [
    {
     "name": "stderr",
     "output_type": "stream",
     "text": [
      "/home/pronton/.virtualenvs/l5kit-nr_j5XnQ/lib/python3.8/site-packages/torch/utils/data/dataloader.py:554: UserWarning: This DataLoader will create 16 worker processes in total. Our suggested max number of worker in current system is 8, which is smaller than what this DataLoader is going to create. Please be aware that excessive worker creation might get DataLoader running slow or even freeze, lower the worker number to avoid potential slowness/freeze if necessary.\n",
      "  warnings.warn(_create_warning_msg(\n"
     ]
    }
   ],
   "source": [
    "train_cfg = cfg[\"train_data_loader\"]\n",
    "train_dataloader = DataLoader(train_dataset, shuffle=train_cfg[\"shuffle\"], batch_size=train_cfg[\"batch_size\"],\n",
    "                              num_workers=train_cfg[\"num_workers\"])\n",
    "device = torch.device(\"cuda:0\" if torch.cuda.is_available() else \"cpu\")\n",
    "model = model.to(device)\n",
    "optimizer = optim.Adam(model.parameters(), lr=1e-3)\n"
   ]
  },
  {
   "cell_type": "code",
   "execution_count": 18,
   "metadata": {},
   "outputs": [
    {
     "data": {
      "text/plain": [
       "CustomVectorizedModel(\n",
       "  (input_embed): Linear(in_features=3, out_features=256, bias=True)\n",
       "  (positional_embedding): SinusoidalPositionalEmbedding()\n",
       "  (type_embedding): VectorizedEmbedding(\n",
       "    (embedding): Embedding(13, 256)\n",
       "  )\n",
       "  (local_subgraph): LocalSubGraph(\n",
       "    (layers): ModuleList(\n",
       "      (0): LocalSubGraphLayer(\n",
       "        (mlp): LocalMLP(\n",
       "          (linear): Linear(in_features=256, out_features=256, bias=False)\n",
       "          (norm): LayerNorm((256,), eps=1e-05, elementwise_affine=True)\n",
       "        )\n",
       "        (linear_remap): Linear(in_features=512, out_features=256, bias=True)\n",
       "      )\n",
       "      (1): LocalSubGraphLayer(\n",
       "        (mlp): LocalMLP(\n",
       "          (linear): Linear(in_features=256, out_features=256, bias=False)\n",
       "          (norm): LayerNorm((256,), eps=1e-05, elementwise_affine=True)\n",
       "        )\n",
       "        (linear_remap): Linear(in_features=512, out_features=256, bias=True)\n",
       "      )\n",
       "      (2): LocalSubGraphLayer(\n",
       "        (mlp): LocalMLP(\n",
       "          (linear): Linear(in_features=256, out_features=256, bias=False)\n",
       "          (norm): LayerNorm((256,), eps=1e-05, elementwise_affine=True)\n",
       "        )\n",
       "        (linear_remap): Linear(in_features=512, out_features=256, bias=True)\n",
       "      )\n",
       "    )\n",
       "  )\n",
       "  (global_head): MultiheadAttentionGlobalHeadFeatureExtractor(\n",
       "    (encoder): MultiheadAttention(\n",
       "      (out_proj): NonDynamicallyQuantizableLinear(in_features=256, out_features=256, bias=True)\n",
       "    )\n",
       "  )\n",
       ")"
      ]
     },
     "execution_count": 18,
     "metadata": {},
     "output_type": "execute_result"
    }
   ],
   "source": [
    "model.eval()"
   ]
  },
  {
   "cell_type": "code",
   "execution_count": 10,
   "metadata": {},
   "outputs": [
    {
     "name": "stdout",
     "output_type": "stream",
     "text": [
      "agent_std \t torch.Size([3])\n",
      "other_agent_std \t torch.Size([3])\n",
      "input_embed.weight \t torch.Size([128, 3])\n",
      "input_embed.bias \t torch.Size([128])\n",
      "positional_embedding.static_embedding \t torch.Size([5000, 1, 128])\n",
      "type_embedding.embedding.weight \t torch.Size([13, 256])\n",
      "local_subgraph.layers.0.mlp.linear.weight \t torch.Size([128, 128])\n",
      "local_subgraph.layers.0.mlp.norm.weight \t torch.Size([128])\n",
      "local_subgraph.layers.0.mlp.norm.bias \t torch.Size([128])\n",
      "local_subgraph.layers.0.linear_remap.weight \t torch.Size([128, 256])\n",
      "local_subgraph.layers.0.linear_remap.bias \t torch.Size([128])\n",
      "local_subgraph.layers.1.mlp.linear.weight \t torch.Size([128, 128])\n",
      "local_subgraph.layers.1.mlp.norm.weight \t torch.Size([128])\n",
      "local_subgraph.layers.1.mlp.norm.bias \t torch.Size([128])\n",
      "local_subgraph.layers.1.linear_remap.weight \t torch.Size([128, 256])\n",
      "local_subgraph.layers.1.linear_remap.bias \t torch.Size([128])\n",
      "local_subgraph.layers.2.mlp.linear.weight \t torch.Size([128, 128])\n",
      "local_subgraph.layers.2.mlp.norm.weight \t torch.Size([128])\n",
      "local_subgraph.layers.2.mlp.norm.bias \t torch.Size([128])\n",
      "local_subgraph.layers.2.linear_remap.weight \t torch.Size([128, 256])\n",
      "local_subgraph.layers.2.linear_remap.bias \t torch.Size([128])\n",
      "global_from_local.weight \t torch.Size([256, 128])\n",
      "global_from_local.bias \t torch.Size([256])\n",
      "global_head.encoder.in_proj_weight \t torch.Size([768, 256])\n",
      "global_head.encoder.in_proj_bias \t torch.Size([768])\n",
      "global_head.encoder.out_proj.weight \t torch.Size([256, 256])\n",
      "global_head.encoder.out_proj.bias \t torch.Size([256])\n"
     ]
    }
   ],
   "source": [
    "for param_tensor in model.state_dict():\n",
    "    print(param_tensor, \"\\t\", model.state_dict()[param_tensor].size())"
   ]
  },
  {
   "cell_type": "code",
   "execution_count": 9,
   "metadata": {},
   "outputs": [
    {
     "name": "stderr",
     "output_type": "stream",
     "text": [
      "/home/pronton/.virtualenvs/l5kit-nr_j5XnQ/lib/python3.8/site-packages/torch/serialization.py:779: UserWarning: 'torch.load' received a zip file that looks like a TorchScript archive dispatching to 'torch.jit.load' (call 'torch.jit.load' directly to silence this warning)\n",
      "  warnings.warn(\"'torch.load' received a zip file that looks like a TorchScript archive\"\n"
     ]
    },
    {
     "ename": "RuntimeError",
     "evalue": "Error(s) in loading state_dict for CustomVectorizedModel:\n\tUnexpected key(s) in state_dict: \"weights_scaling\", \"xy_scale\", \"global_head.output_embed.layers.0.weight\", \"global_head.output_embed.layers.0.bias\", \"global_head.output_embed.layers.1.weight\", \"global_head.output_embed.layers.1.bias\", \"global_head.output_embed.layers.2.weight\", \"global_head.output_embed.layers.2.bias\". ",
     "output_type": "error",
     "traceback": [
      "\u001b[0;31m---------------------------------------------------------------------------\u001b[0m",
      "\u001b[0;31mRuntimeError\u001b[0m                              Traceback (most recent call last)",
      "\u001b[0;32m/tmp/ipykernel_11289/1924247762.py\u001b[0m in \u001b[0;36m<module>\u001b[0;34m\u001b[0m\n\u001b[1;32m      1\u001b[0m \u001b[0mmodel_path\u001b[0m \u001b[0;34m=\u001b[0m \u001b[0;34m\"/home/pronton/rl/l5kit/examples/urban_driver/OL_HS.pt\"\u001b[0m\u001b[0;34m\u001b[0m\u001b[0;34m\u001b[0m\u001b[0m\n\u001b[0;32m----> 2\u001b[0;31m \u001b[0mmodel\u001b[0m\u001b[0;34m.\u001b[0m\u001b[0mload_state_dict\u001b[0m\u001b[0;34m(\u001b[0m\u001b[0mtorch\u001b[0m\u001b[0;34m.\u001b[0m\u001b[0mload\u001b[0m\u001b[0;34m(\u001b[0m\u001b[0mmodel_path\u001b[0m\u001b[0;34m)\u001b[0m\u001b[0;34m.\u001b[0m\u001b[0mstate_dict\u001b[0m\u001b[0;34m(\u001b[0m\u001b[0;34m)\u001b[0m\u001b[0;34m)\u001b[0m\u001b[0;34m\u001b[0m\u001b[0;34m\u001b[0m\u001b[0m\n\u001b[0m",
      "\u001b[0;32m~/.virtualenvs/l5kit-nr_j5XnQ/lib/python3.8/site-packages/torch/nn/modules/module.py\u001b[0m in \u001b[0;36mload_state_dict\u001b[0;34m(self, state_dict, strict)\u001b[0m\n\u001b[1;32m   1665\u001b[0m \u001b[0;34m\u001b[0m\u001b[0m\n\u001b[1;32m   1666\u001b[0m         \u001b[0;32mif\u001b[0m \u001b[0mlen\u001b[0m\u001b[0;34m(\u001b[0m\u001b[0merror_msgs\u001b[0m\u001b[0;34m)\u001b[0m \u001b[0;34m>\u001b[0m \u001b[0;36m0\u001b[0m\u001b[0;34m:\u001b[0m\u001b[0;34m\u001b[0m\u001b[0;34m\u001b[0m\u001b[0m\n\u001b[0;32m-> 1667\u001b[0;31m             raise RuntimeError('Error(s) in loading state_dict for {}:\\n\\t{}'.format(\n\u001b[0m\u001b[1;32m   1668\u001b[0m                                self.__class__.__name__, \"\\n\\t\".join(error_msgs)))\n\u001b[1;32m   1669\u001b[0m         \u001b[0;32mreturn\u001b[0m \u001b[0m_IncompatibleKeys\u001b[0m\u001b[0;34m(\u001b[0m\u001b[0mmissing_keys\u001b[0m\u001b[0;34m,\u001b[0m \u001b[0munexpected_keys\u001b[0m\u001b[0;34m)\u001b[0m\u001b[0;34m\u001b[0m\u001b[0;34m\u001b[0m\u001b[0m\n",
      "\u001b[0;31mRuntimeError\u001b[0m: Error(s) in loading state_dict for CustomVectorizedModel:\n\tUnexpected key(s) in state_dict: \"weights_scaling\", \"xy_scale\", \"global_head.output_embed.layers.0.weight\", \"global_head.output_embed.layers.0.bias\", \"global_head.output_embed.layers.1.weight\", \"global_head.output_embed.layers.1.bias\", \"global_head.output_embed.layers.2.weight\", \"global_head.output_embed.layers.2.bias\". "
     ]
    }
   ],
   "source": [
    "model_path = \"/home/pronton/rl/l5kit/examples/urban_driver/OL_HS.pt\"\n",
    "model.load_state_dict(torch.load(model_path).state_dict())"
   ]
  },
  {
   "cell_type": "code",
   "execution_count": 11,
   "metadata": {},
   "outputs": [
    {
     "name": "stdout",
     "output_type": "stream",
     "text": [
      "RecursiveScriptModule(\n",
      "  original_name=VectorNetLikeModel\n",
      "  (criterion): RecursiveScriptModule(original_name=L1Loss)\n",
      "  (input_embed): RecursiveScriptModule(original_name=Linear)\n",
      "  (positional_embedding): RecursiveScriptModule(original_name=SinusoidalPositionalEmbedding)\n",
      "  (type_embedding): RecursiveScriptModule(\n",
      "    original_name=VectorNetEmbedding\n",
      "    (embedding): RecursiveScriptModule(original_name=Embedding)\n",
      "  )\n",
      "  (local_subgraph): RecursiveScriptModule(\n",
      "    original_name=LocalSubGraph\n",
      "    (layers): RecursiveScriptModule(\n",
      "      original_name=ModuleList\n",
      "      (0): RecursiveScriptModule(\n",
      "        original_name=LocalSubGraphLayer\n",
      "        (mlp): RecursiveScriptModule(\n",
      "          original_name=LocalMLP\n",
      "          (linear): RecursiveScriptModule(original_name=Linear)\n",
      "          (norm): RecursiveScriptModule(original_name=LayerNorm)\n",
      "        )\n",
      "        (linear_remap): RecursiveScriptModule(original_name=Linear)\n",
      "      )\n",
      "      (1): RecursiveScriptModule(\n",
      "        original_name=LocalSubGraphLayer\n",
      "        (mlp): RecursiveScriptModule(\n",
      "          original_name=LocalMLP\n",
      "          (linear): RecursiveScriptModule(original_name=Linear)\n",
      "          (norm): RecursiveScriptModule(original_name=LayerNorm)\n",
      "        )\n",
      "        (linear_remap): RecursiveScriptModule(original_name=Linear)\n",
      "      )\n",
      "      (2): RecursiveScriptModule(\n",
      "        original_name=LocalSubGraphLayer\n",
      "        (mlp): RecursiveScriptModule(\n",
      "          original_name=LocalMLP\n",
      "          (linear): RecursiveScriptModule(original_name=Linear)\n",
      "          (norm): RecursiveScriptModule(original_name=LayerNorm)\n",
      "        )\n",
      "        (linear_remap): RecursiveScriptModule(original_name=Linear)\n",
      "      )\n",
      "    )\n",
      "  )\n",
      "  (global_from_local): RecursiveScriptModule(original_name=Linear)\n",
      "  (global_head): RecursiveScriptModule(\n",
      "    original_name=MultiheadAttentionGlobalHead\n",
      "    (encoder): RecursiveScriptModule(\n",
      "      original_name=MultiheadAttention\n",
      "      (out_proj): RecursiveScriptModule(original_name=NonDynamicallyQuantizableLinear)\n",
      "    )\n",
      "    (output_embed): RecursiveScriptModule(\n",
      "      original_name=MLP\n",
      "      (layers): RecursiveScriptModule(\n",
      "        original_name=ModuleList\n",
      "        (0): RecursiveScriptModule(original_name=Linear)\n",
      "        (1): RecursiveScriptModule(original_name=Linear)\n",
      "        (2): RecursiveScriptModule(original_name=Linear)\n",
      "      )\n",
      "    )\n",
      "  )\n",
      "  (kin_layer): RecursiveScriptModule(original_name=UnicycleModel)\n",
      ")\n"
     ]
    }
   ],
   "source": [
    "model_path = \"/home/pronton/rl/l5kit/examples/urban_driver/OL_HS.pt\"\n",
    "device = torch.device(\"cuda:0\" if torch.cuda.is_available() else \"cpu\")\n",
    "model = torch.load(model_path).to(device)\n",
    "# model = SAC.load(\"/home/pronton/rl/l5kit/examples/RL/gg colabs/logs/SAC_640000_steps.zip\")\n",
    "print(model.eval())\n",
    "# model = model.eval()"
   ]
  },
  {
   "cell_type": "code",
   "execution_count": 12,
   "metadata": {},
   "outputs": [
    {
     "name": "stdout",
     "output_type": "stream",
     "text": [
      "weights_scaling \t torch.Size([3])\n",
      "xy_scale \t torch.Size([12, 2])\n",
      "agent_std \t torch.Size([3])\n",
      "other_agent_std \t torch.Size([3])\n",
      "input_embed.weight \t torch.Size([128, 3])\n",
      "input_embed.bias \t torch.Size([128])\n",
      "positional_embedding.static_embedding \t torch.Size([5000, 1, 128])\n",
      "type_embedding.embedding.weight \t torch.Size([13, 256])\n",
      "local_subgraph.layers.0.mlp.linear.weight \t torch.Size([128, 128])\n",
      "local_subgraph.layers.0.mlp.norm.weight \t torch.Size([128])\n",
      "local_subgraph.layers.0.mlp.norm.bias \t torch.Size([128])\n",
      "local_subgraph.layers.0.linear_remap.weight \t torch.Size([128, 256])\n",
      "local_subgraph.layers.0.linear_remap.bias \t torch.Size([128])\n",
      "local_subgraph.layers.1.mlp.linear.weight \t torch.Size([128, 128])\n",
      "local_subgraph.layers.1.mlp.norm.weight \t torch.Size([128])\n",
      "local_subgraph.layers.1.mlp.norm.bias \t torch.Size([128])\n",
      "local_subgraph.layers.1.linear_remap.weight \t torch.Size([128, 256])\n",
      "local_subgraph.layers.1.linear_remap.bias \t torch.Size([128])\n",
      "local_subgraph.layers.2.mlp.linear.weight \t torch.Size([128, 128])\n",
      "local_subgraph.layers.2.mlp.norm.weight \t torch.Size([128])\n",
      "local_subgraph.layers.2.mlp.norm.bias \t torch.Size([128])\n",
      "local_subgraph.layers.2.linear_remap.weight \t torch.Size([128, 256])\n",
      "local_subgraph.layers.2.linear_remap.bias \t torch.Size([128])\n",
      "global_from_local.weight \t torch.Size([256, 128])\n",
      "global_from_local.bias \t torch.Size([256])\n",
      "global_head.encoder.in_proj_weight \t torch.Size([768, 256])\n",
      "global_head.encoder.in_proj_bias \t torch.Size([768])\n",
      "global_head.encoder.out_proj.weight \t torch.Size([256, 256])\n",
      "global_head.encoder.out_proj.bias \t torch.Size([256])\n",
      "global_head.output_embed.layers.0.weight \t torch.Size([1024, 256])\n",
      "global_head.output_embed.layers.0.bias \t torch.Size([1024])\n",
      "global_head.output_embed.layers.1.weight \t torch.Size([1024, 1024])\n",
      "global_head.output_embed.layers.1.bias \t torch.Size([1024])\n",
      "global_head.output_embed.layers.2.weight \t torch.Size([36, 1024])\n",
      "global_head.output_embed.layers.2.bias \t torch.Size([36])\n"
     ]
    }
   ],
   "source": [
    "for param_tensor in model.state_dict():\n",
    "    print(param_tensor, \"\\t\", model.state_dict()[param_tensor].size())"
   ]
  },
  {
   "cell_type": "code",
   "execution_count": 9,
   "metadata": {},
   "outputs": [
    {
     "ename": "RuntimeError",
     "evalue": "register_forward_hook is not supported on ScriptModules",
     "output_type": "error",
     "traceback": [
      "\u001b[0;31m---------------------------------------------------------------------------\u001b[0m",
      "\u001b[0;31mRuntimeError\u001b[0m                              Traceback (most recent call last)",
      "\u001b[0;32m/tmp/ipykernel_10237/2920948534.py\u001b[0m in \u001b[0;36m<module>\u001b[0;34m\u001b[0m\n\u001b[1;32m      4\u001b[0m         \u001b[0mactivation\u001b[0m\u001b[0;34m[\u001b[0m\u001b[0mname\u001b[0m\u001b[0;34m]\u001b[0m \u001b[0;34m=\u001b[0m \u001b[0moutput\u001b[0m\u001b[0;34m.\u001b[0m\u001b[0mdetach\u001b[0m\u001b[0;34m(\u001b[0m\u001b[0;34m)\u001b[0m\u001b[0;34m\u001b[0m\u001b[0;34m\u001b[0m\u001b[0m\n\u001b[1;32m      5\u001b[0m     \u001b[0;32mreturn\u001b[0m \u001b[0mhook\u001b[0m\u001b[0;34m\u001b[0m\u001b[0;34m\u001b[0m\u001b[0m\n\u001b[0;32m----> 6\u001b[0;31m \u001b[0mmodel\u001b[0m\u001b[0;34m.\u001b[0m\u001b[0mglobal_from_local\u001b[0m\u001b[0;34m.\u001b[0m\u001b[0mregister_forward_hook\u001b[0m\u001b[0;34m(\u001b[0m\u001b[0mget_activation\u001b[0m\u001b[0;34m(\u001b[0m\u001b[0;34m'global_from_local'\u001b[0m\u001b[0;34m)\u001b[0m\u001b[0;34m)\u001b[0m\u001b[0;34m\u001b[0m\u001b[0;34m\u001b[0m\u001b[0m\n\u001b[0m\u001b[1;32m      7\u001b[0m \u001b[0mx\u001b[0m \u001b[0;34m=\u001b[0m \u001b[0mtorch\u001b[0m\u001b[0;34m.\u001b[0m\u001b[0mrandn\u001b[0m\u001b[0;34m(\u001b[0m\u001b[0;36m1\u001b[0m\u001b[0;34m,\u001b[0m \u001b[0;36m25\u001b[0m\u001b[0;34m)\u001b[0m\u001b[0;34m\u001b[0m\u001b[0;34m\u001b[0m\u001b[0m\n\u001b[1;32m      8\u001b[0m \u001b[0moutput\u001b[0m \u001b[0;34m=\u001b[0m \u001b[0mmodel\u001b[0m\u001b[0;34m(\u001b[0m\u001b[0mx\u001b[0m\u001b[0;34m)\u001b[0m\u001b[0;34m\u001b[0m\u001b[0;34m\u001b[0m\u001b[0m\n",
      "\u001b[0;32m~/.virtualenvs/l5kit-nr_j5XnQ/lib/python3.8/site-packages/torch/jit/_script.py\u001b[0m in \u001b[0;36mfail\u001b[0;34m(self, *args, **kwargs)\u001b[0m\n\u001b[1;32m    941\u001b[0m     \u001b[0;32mdef\u001b[0m \u001b[0m_make_fail\u001b[0m\u001b[0;34m(\u001b[0m\u001b[0mname\u001b[0m\u001b[0;34m)\u001b[0m\u001b[0;34m:\u001b[0m\u001b[0;34m\u001b[0m\u001b[0;34m\u001b[0m\u001b[0m\n\u001b[1;32m    942\u001b[0m         \u001b[0;32mdef\u001b[0m \u001b[0mfail\u001b[0m\u001b[0;34m(\u001b[0m\u001b[0mself\u001b[0m\u001b[0;34m,\u001b[0m \u001b[0;34m*\u001b[0m\u001b[0margs\u001b[0m\u001b[0;34m,\u001b[0m \u001b[0;34m**\u001b[0m\u001b[0mkwargs\u001b[0m\u001b[0;34m)\u001b[0m\u001b[0;34m:\u001b[0m\u001b[0;34m\u001b[0m\u001b[0;34m\u001b[0m\u001b[0m\n\u001b[0;32m--> 943\u001b[0;31m             \u001b[0;32mraise\u001b[0m \u001b[0mRuntimeError\u001b[0m\u001b[0;34m(\u001b[0m\u001b[0mname\u001b[0m \u001b[0;34m+\u001b[0m \u001b[0;34m\" is not supported on ScriptModules\"\u001b[0m\u001b[0;34m)\u001b[0m\u001b[0;34m\u001b[0m\u001b[0;34m\u001b[0m\u001b[0m\n\u001b[0m\u001b[1;32m    944\u001b[0m \u001b[0;34m\u001b[0m\u001b[0m\n\u001b[1;32m    945\u001b[0m         \u001b[0;32mreturn\u001b[0m \u001b[0mfail\u001b[0m\u001b[0;34m\u001b[0m\u001b[0;34m\u001b[0m\u001b[0m\n",
      "\u001b[0;31mRuntimeError\u001b[0m: register_forward_hook is not supported on ScriptModules"
     ]
    }
   ],
   "source": [
    "activation = {}\n",
    "def get_activation(name):\n",
    "    def hook(model, input, output):\n",
    "        activation[name] = output.detach()\n",
    "    return hook\n",
    "model.global_from_local.register_forward_hook(get_activation('global_from_local'))\n",
    "x = torch.randn(1, 25)\n",
    "output = model(x)\n",
    "print(activation['global_from_local'])"
   ]
  },
  {
   "cell_type": "code",
   "execution_count": 26,
   "metadata": {},
   "outputs": [
    {
     "name": "stdout",
     "output_type": "stream",
     "text": [
      "weights_scaling \t torch.Size([3])\n",
      "xy_scale \t torch.Size([12, 2])\n",
      "agent_std \t torch.Size([3])\n",
      "other_agent_std \t torch.Size([3])\n",
      "input_embed.weight \t torch.Size([128, 3])\n",
      "input_embed.bias \t torch.Size([128])\n",
      "positional_embedding.static_embedding \t torch.Size([5000, 1, 128])\n",
      "type_embedding.embedding.weight \t torch.Size([13, 256])\n",
      "local_subgraph.layers.0.mlp.linear.weight \t torch.Size([128, 128])\n",
      "local_subgraph.layers.0.mlp.norm.weight \t torch.Size([128])\n",
      "local_subgraph.layers.0.mlp.norm.bias \t torch.Size([128])\n",
      "local_subgraph.layers.0.linear_remap.weight \t torch.Size([128, 256])\n",
      "local_subgraph.layers.0.linear_remap.bias \t torch.Size([128])\n",
      "local_subgraph.layers.1.mlp.linear.weight \t torch.Size([128, 128])\n",
      "local_subgraph.layers.1.mlp.norm.weight \t torch.Size([128])\n",
      "local_subgraph.layers.1.mlp.norm.bias \t torch.Size([128])\n",
      "local_subgraph.layers.1.linear_remap.weight \t torch.Size([128, 256])\n",
      "local_subgraph.layers.1.linear_remap.bias \t torch.Size([128])\n",
      "local_subgraph.layers.2.mlp.linear.weight \t torch.Size([128, 128])\n",
      "local_subgraph.layers.2.mlp.norm.weight \t torch.Size([128])\n",
      "local_subgraph.layers.2.mlp.norm.bias \t torch.Size([128])\n",
      "local_subgraph.layers.2.linear_remap.weight \t torch.Size([128, 256])\n",
      "local_subgraph.layers.2.linear_remap.bias \t torch.Size([128])\n",
      "global_from_local.weight \t torch.Size([256, 128])\n",
      "global_from_local.bias \t torch.Size([256])\n",
      "global_head.encoder.in_proj_weight \t torch.Size([768, 256])\n",
      "global_head.encoder.in_proj_bias \t torch.Size([768])\n",
      "global_head.encoder.out_proj.weight \t torch.Size([256, 256])\n",
      "global_head.encoder.out_proj.bias \t torch.Size([256])\n",
      "global_head.output_embed.layers.0.weight \t torch.Size([1024, 256])\n",
      "global_head.output_embed.layers.0.bias \t torch.Size([1024])\n",
      "global_head.output_embed.layers.1.weight \t torch.Size([1024, 1024])\n",
      "global_head.output_embed.layers.1.bias \t torch.Size([1024])\n",
      "global_head.output_embed.layers.2.weight \t torch.Size([36, 1024])\n",
      "global_head.output_embed.layers.2.bias \t torch.Size([36])\n"
     ]
    }
   ],
   "source": [
    "for param_tensor in model.state_dict():\n",
    "    print(param_tensor, \"\\t\", model.state_dict()[param_tensor].size())"
   ]
  },
  {
   "cell_type": "code",
   "execution_count": 10,
   "metadata": {},
   "outputs": [
    {
     "name": "stdout",
     "output_type": "stream",
     "text": [
      "RecursiveScriptModule(\n",
      "  original_name=VectorNetLikeModel\n",
      "  (criterion): RecursiveScriptModule(original_name=L1Loss)\n",
      "  (input_embed): RecursiveScriptModule(original_name=Linear)\n",
      "  (positional_embedding): RecursiveScriptModule(original_name=SinusoidalPositionalEmbedding)\n",
      "  (type_embedding): RecursiveScriptModule(\n",
      "    original_name=VectorNetEmbedding\n",
      "    (embedding): RecursiveScriptModule(original_name=Embedding)\n",
      "  )\n",
      "  (local_subgraph): RecursiveScriptModule(\n",
      "    original_name=LocalSubGraph\n",
      "    (layers): RecursiveScriptModule(\n",
      "      original_name=ModuleList\n",
      "      (0): RecursiveScriptModule(\n",
      "        original_name=LocalSubGraphLayer\n",
      "        (mlp): RecursiveScriptModule(\n",
      "          original_name=LocalMLP\n",
      "          (linear): RecursiveScriptModule(original_name=Linear)\n",
      "          (norm): RecursiveScriptModule(original_name=LayerNorm)\n",
      "        )\n",
      "        (linear_remap): RecursiveScriptModule(original_name=Linear)\n",
      "      )\n",
      "      (1): RecursiveScriptModule(\n",
      "        original_name=LocalSubGraphLayer\n",
      "        (mlp): RecursiveScriptModule(\n",
      "          original_name=LocalMLP\n",
      "          (linear): RecursiveScriptModule(original_name=Linear)\n",
      "          (norm): RecursiveScriptModule(original_name=LayerNorm)\n",
      "        )\n",
      "        (linear_remap): RecursiveScriptModule(original_name=Linear)\n",
      "      )\n",
      "      (2): RecursiveScriptModule(\n",
      "        original_name=LocalSubGraphLayer\n",
      "        (mlp): RecursiveScriptModule(\n",
      "          original_name=LocalMLP\n",
      "          (linear): RecursiveScriptModule(original_name=Linear)\n",
      "          (norm): RecursiveScriptModule(original_name=LayerNorm)\n",
      "        )\n",
      "        (linear_remap): RecursiveScriptModule(original_name=Linear)\n",
      "      )\n",
      "    )\n",
      "  )\n",
      "  (global_from_local): RecursiveScriptModule(original_name=Linear)\n",
      "  (global_head): RecursiveScriptModule(\n",
      "    original_name=MultiheadAttentionGlobalHead\n",
      "    (encoder): RecursiveScriptModule(\n",
      "      original_name=MultiheadAttention\n",
      "      (out_proj): RecursiveScriptModule(original_name=NonDynamicallyQuantizableLinear)\n",
      "    )\n",
      "    (output_embed): RecursiveScriptModule(\n",
      "      original_name=MLP\n",
      "      (layers): RecursiveScriptModule(\n",
      "        original_name=ModuleList\n",
      "        (0): RecursiveScriptModule(original_name=Linear)\n",
      "        (1): RecursiveScriptModule(original_name=Linear)\n",
      "        (2): RecursiveScriptModule(original_name=Linear)\n",
      "      )\n",
      "    )\n",
      "  )\n",
      "  (kin_layer): RecursiveScriptModule(original_name=UnicycleModel)\n",
      ")\n"
     ]
    }
   ],
   "source": [
    "model_path = \"/home/pronton/rl/l5kit/examples/urban_driver/OL.pt\"\n",
    "device = torch.device(\"cuda:0\" if torch.cuda.is_available() else \"cpu\")\n",
    "# model = torch.load(model_path).to(device)\n",
    "model = torch.jit.load(model_path).to(device)\n",
    "# model = SAC.load(\"/home/pronton/rl/l5kit/examples/RL/gg colabs/logs/SAC_640000_steps.zip\")\n",
    "print(model.eval())\n",
    "# model = model.eval()"
   ]
  },
  {
   "cell_type": "markdown",
   "metadata": {},
   "source": [
    "# Training loop\n",
    "Here, we purposely include a barebone training loop. Clearly, many more components can be added to enrich logging and improve performance. Still, the sheer size of our dataset ensures that a reasonable performance can be obtained even with this simple loop."
   ]
  },
  {
   "cell_type": "code",
   "execution_count": null,
   "metadata": {},
   "outputs": [],
   "source": [
    "tr_it = iter(train_dataloader)\n",
    "progress_bar = tqdm(range(cfg[\"train_params\"][\"max_num_steps\"]))\n",
    "losses_train = []\n",
    "model.train()\n",
    "torch.set_grad_enabled(True)\n",
    "\n",
    "for _ in progress_bar:\n",
    "    try:\n",
    "        data = next(tr_it)\n",
    "    except StopIteration:\n",
    "        tr_it = iter(train_dataloader)\n",
    "        data = next(tr_it)\n",
    "    # Forward pass\n",
    "    data = {k: v.to(device) for k, v in data.items()}\n",
    "    result = model(data)\n",
    "    loss = result[\"loss\"]\n",
    "    # Backward pass\n",
    "    optimizer.zero_grad()\n",
    "    loss.backward()\n",
    "    optimizer.step()\n",
    "\n",
    "    losses_train.append(loss.item())\n",
    "    progress_bar.set_description(f\"loss: {loss.item()} loss(avg): {np.mean(losses_train)}\")"
   ]
  },
  {
   "cell_type": "markdown",
   "metadata": {},
   "source": [
    "### Plot the train loss curve\n",
    "We can plot the train loss against the iterations (batch-wise) to check if our model has converged."
   ]
  },
  {
   "cell_type": "code",
   "execution_count": null,
   "metadata": {},
   "outputs": [],
   "source": [
    "plt.plot(np.arange(len(losses_train)), losses_train, label=\"train loss\")\n",
    "plt.legend()\n",
    "plt.show()"
   ]
  },
  {
   "cell_type": "markdown",
   "metadata": {},
   "source": [
    "# Store the model\n",
    "\n",
    "Let's store the model as a torchscript. This format allows us to re-load the model and weights without requiring the class definition later.\n",
    "\n",
    "**Take note of the path, you will use it later to evaluate your planning model!**"
   ]
  },
  {
   "cell_type": "code",
   "execution_count": null,
   "metadata": {
    "pycharm": {
     "name": "#%%\n"
    }
   },
   "outputs": [],
   "source": [
    "to_save = torch.jit.script(model.cpu())\n",
    "path_to_save = f\"{gettempdir()}/urban_driver.pt\"\n",
    "to_save.save(path_to_save)\n",
    "print(f\"MODEL STORED at {path_to_save}\")"
   ]
  },
  {
   "cell_type": "markdown",
   "metadata": {},
   "source": [
    "# Congratulations in training your very own Urban Driver model!\n",
    "### What's Next\n",
    "\n",
    "Now that your model is trained and safely stored, you can evaluate how it performs in our simulation:\n",
    "\n",
    "\n",
    "### [Closed-loop evaluation](./closed_loop_test.ipynb)\n",
    "In this setting the model **is in full control of the AV's** future movements.\n",
    "\n",
    "## Pre-trained models\n",
    "We provide a collection of pre-trained models, including both our proposed method and several ablations from our paper:\n",
    "- [Urban Driver](https://lyft-l5-datasets-public.s3-us-west-2.amazonaws.com/models/urban_driver/BPTT.pt);\n",
    "- [Urban Driver without BPTT](https://lyft-l5-datasets-public.s3-us-west-2.amazonaws.com/models/urban_driver/MS.pt);\n",
    "- [Open Loop](https://lyft-l5-datasets-public.s3-us-west-2.amazonaws.com/models/urban_driver/OL.pt);\n",
    "- [Open Loop with history](https://lyft-l5-datasets-public.s3-us-west-2.amazonaws.com/models/urban_driver/OL_HS.pt);\n",
    "\n",
    "To use one of the models simply download the corresponding `.pt` file and load it in the evaluation notebooks - further, please see the comments above regarding necessary config changes."
   ]
  },
  {
   "cell_type": "code",
   "execution_count": null,
   "metadata": {},
   "outputs": [],
   "source": []
  }
 ],
 "metadata": {
  "kernelspec": {
   "display_name": "Python 3.8.10 ('l5kit-nr_j5XnQ')",
   "language": "python",
   "name": "python3"
  },
  "language_info": {
   "codemirror_mode": {
    "name": "ipython",
    "version": 3
   },
   "file_extension": ".py",
   "mimetype": "text/x-python",
   "name": "python",
   "nbconvert_exporter": "python",
   "pygments_lexer": "ipython3",
   "version": "3.8.10"
  },
  "pycharm": {
   "stem_cell": {
    "cell_type": "raw",
    "metadata": {
     "collapsed": false
    },
    "source": []
   }
  },
  "vscode": {
   "interpreter": {
    "hash": "6df7c2a3d813445d6b3c74a479f8d37af444dbb4628cead36b7b0d6872de20bd"
   }
  }
 },
 "nbformat": 4,
 "nbformat_minor": 4
}
