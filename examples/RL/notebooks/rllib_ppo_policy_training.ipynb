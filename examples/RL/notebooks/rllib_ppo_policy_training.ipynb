{
 "cells": [
  {
   "cell_type": "markdown",
   "id": "f7f64953",
   "metadata": {},
   "source": [
    "### Training RL Policies using L5Kit Closed-Loop Environment\n",
    "\n",
    "This notebook describes how to train RL policies for self-driving using our gym-compatible closed-loop environment.\n",
    "\n",
    "We will be using [Proximal Policy Optimization (PPO)](https://arxiv.org/abs/1707.06347) algorithm as our reinforcement learning algorithm, as it not only demonstrates remarkable performance but it is also empirically easy to tune.\n",
    "\n",
    "The PPO implementation in this notebook is based on [Stable Baselines3](https://github.com/DLR-RM/stable-baselines3) framework, a popular framework for training RL policies. Note that our environment is also compatible with [RLlib](https://docs.ray.io/en/latest/rllib.html), another popular frameworks for the same."
   ]
  },
  {
   "cell_type": "code",
   "execution_count": 1,
   "id": "806093d7",
   "metadata": {},
   "outputs": [
    {
     "name": "stdout",
     "output_type": "stream",
     "text": [
      "Not running in Google Colab.\n"
     ]
    }
   ],
   "source": [
    "#@title Download L5 Sample Dataset and install L5Kit\n",
    "import os\n",
    "RunningInCOLAB = 'google.colab' in str(get_ipython())\n",
    "if RunningInCOLAB:\n",
    "    !wget https://raw.githubusercontent.com/lyft/l5kit/master/examples/setup_notebook_colab.sh -q\n",
    "    !sh ./setup_notebook_colab.sh\n",
    "    os.environ[\"L5KIT_DATA_FOLDER\"] = open(\"./dataset_dir.txt\", \"r\").read().strip()\n",
    "else:\n",
    "    os.environ[\"L5KIT_DATA_FOLDER\"] = \"/home/pronton/rl/l5kit_dataset/\"\n",
    "    print(\"Not running in Google Colab.\")"
   ]
  },
  {
   "cell_type": "code",
   "execution_count": 2,
   "id": "585b1fe7",
   "metadata": {},
   "outputs": [
    {
     "name": "stderr",
     "output_type": "stream",
     "text": [
      "/home/pronton/.virtualenvs/l5kit-nr_j5XnQ/lib/python3.8/site-packages/transforms3d/quaternions.py:26: DeprecationWarning: `np.float` is a deprecated alias for the builtin `float`. To silence this warning, use `float` by itself. Doing this will not modify any behavior and is safe. If you specifically wanted the numpy scalar type, use `np.float64` here.\n",
      "Deprecated in NumPy 1.20; for more details and guidance: https://numpy.org/devdocs/release/1.20.0-notes.html#deprecations\n",
      "  _MAX_FLOAT = np.maximum_sctype(np.float)\n"
     ]
    }
   ],
   "source": [
    "import gym\n",
    "\n",
    "from stable_baselines3 import PPO, SAC\n",
    "from stable_baselines3.common.callbacks import CheckpointCallback\n",
    "from stable_baselines3.common.env_util import make_vec_env\n",
    "from stable_baselines3.common.utils import get_linear_fn\n",
    "from stable_baselines3.common.vec_env import SubprocVecEnv\n",
    "\n",
    "from l5kit.configs import load_config_data\n",
    "from l5kit.environment.feature_extractor import CustomFeatureExtractor\n",
    "from l5kit.environment.callbacks import L5KitEvalCallback\n",
    "from l5kit.environment.envs.l5_env import SimulationConfigGym, L5Env, GymStepOutput\n",
    "\n",
    "from l5kit.visualization.visualizer.zarr_utils import episode_out_to_visualizer_scene_gym_cle\n",
    "from l5kit.visualization.visualizer.visualizer import visualize\n",
    "from bokeh.io import output_notebook, show"
   ]
  },
  {
   "cell_type": "code",
   "execution_count": 3,
   "id": "2ea81f77",
   "metadata": {},
   "outputs": [],
   "source": [
    "# Dataset is assumed to be on the folder specified\n",
    "# in the L5KIT_DATA_FOLDER environment variable\n",
    "\n",
    "# get environment config\n",
    "env_config_path = '../gym_config.yaml'\n",
    "cfg = load_config_data(env_config_path)"
   ]
  },
  {
   "cell_type": "code",
   "execution_count": 4,
   "id": "348b80d4",
   "metadata": {},
   "outputs": [],
   "source": [
    "import gym\n",
    "import ray\n",
    "from ray.rllib.agents.ppo import PPOTrainer\n",
    "from ray.tune.logger import pretty_print\n",
    "import ray.rllib.algorithms.ppo as ppo\n",
    "from ray.rllib.models import ModelCatalog\n",
    "from ray.rllib.models.torch.torch_modelv2 import TorchModelV2\n",
    "import torch.nn as nn\n",
    "import numpy as np"
   ]
  },
  {
   "cell_type": "code",
   "execution_count": 29,
   "id": "dab27dfd",
   "metadata": {},
   "outputs": [],
   "source": [
    "\n",
    "\n",
    "'''\n",
    "model = nn.Sequential(\n",
    "        nn.Conv2d(num_input_channels, 64, kernel_size=(7, 7), stride=(2, 2), padding=(3, 3), bias=False),\n",
    "        nn.GroupNorm(4, 64),\n",
    "        nn.ReLU(),\n",
    "        nn.MaxPool2d(kernel_size=2, stride=2),\n",
    "        nn.Conv2d(64, 32, kernel_size=(7, 7), stride=(2, 2), padding=(3, 3), bias=False),\n",
    "        nn.GroupNorm(2, 32),\n",
    "        nn.ReLU(),\n",
    "        nn.MaxPool2d(kernel_size=2, stride=2),\n",
    "        nn.Flatten(),\n",
    "        nn.Linear(in_features=1568, out_features=features_dim),\n",
    "    )\n",
    "\n",
    "'''\n",
    "from customModel import GNCNN\n",
    "ModelCatalog.register_custom_model(\n",
    "        \"GN_CNN_torch_model\", GNCNN\n",
    "    )\n"
   ]
  },
  {
   "cell_type": "markdown",
   "id": "2cead394",
   "metadata": {},
   "source": [
    "### Define Training and Evaluation Environments\n",
    "\n",
    "**Training**: We will be training the PPO policy on episodes of length 32 time-steps. We will have 4 sub-processes (training environments) that will help to parallelize and speeden up episode rollouts. The *SimConfig* dataclass will define the parameters of the episode rollout: like length of episode rollout, whether to use log-replayed agents or simulated agents etc.\n",
    "\n",
    "**Evaluation**: We will evaluate the performance of the PPO policy on the *entire* scene (~248 time-steps)."
   ]
  },
  {
   "cell_type": "code",
   "execution_count": null,
   "id": "2266fa5e",
   "metadata": {},
   "outputs": [],
   "source": [
    "import torch as th\n",
    "from torch import nn\n",
    "from l5kit.environment import models\n",
    "from ray.rllib.utils.typing import ModelConfigDict, TensorType\n",
    "from ray.rllib.models.torch.fcnet import FullyConnectedNetwork as TorchFCNet\n",
    "from ray.rllib.models.torch.complex_input_net import ComplexInputNetwork\n",
    "\n",
    "\n",
    "class CustomFeatureExtractor(TorchModelV2, nn.Module):\n",
    "    \"\"\"Custom feature extractor from raster images for the RL Policy.\n",
    "\n",
    "    :param observation_space: the input observation space\n",
    "    :param features_dim: the number of features to extract from the input\n",
    "    :param model_arch: the model architecture used to extract the features\n",
    "    \"\"\"\n",
    "\n",
    "    # def __init__(self, obs_space, action_space, num_outputs, model_config, name):\n",
    "    def __init__(self, obs_space: gym.spaces.Space,\n",
    "               action_space: gym.spaces.Space, num_outputs: int,\n",
    "               model_config: ModelConfigDict, name: str):\n",
    "        TorchModelV2.__init__(self, obs_space, action_space, num_outputs,\n",
    "                          model_config, name)\n",
    "        nn.Module.__init__(self)\n",
    "        self.model = ComplexInputNetwork(\n",
    "            obs_space, action_space, num_outputs, model_config, name\n",
    "        )\n",
    "        print(model_config)\n",
    "        # features_dim = model_config['features_dim']\n",
    "        features_dim = 8\n",
    "        model_arch = \"simple_gn\"\n",
    "    # def __init__(self, observation_space: gym.spaces.Dict, features_dim: int = 256,\n",
    "    #              model_arch: str = \"simple_gn\"):\n",
    "        # super(CustomFeatureExtractor, self).__init__(observation_space, features_dim)\n",
    "\n",
    "        # We assume CxHxW images (channels first)\n",
    "        # Re-ordering will be done by pre-preprocessing or wrapper\n",
    "        \n",
    "        num_input_channels = obs_space[\"image\"].shape[0]\n",
    "\n",
    "        if model_arch == 'simple_gn':\n",
    "            # A simplified feature extractor with GroupNorm.\n",
    "            model = models.SimpleCNN_GN(num_input_channels, features_dim)\n",
    "        else:\n",
    "            raise NotImplementedError\n",
    "\n",
    "        extractors = {\"image\": model}\n",
    "        self.extractors = nn.ModuleDict(extractors)\n",
    "        self._features_dim = features_dim\n",
    "\n",
    "    def forward(self, input_dict: gym.spaces.Dict, states, seq_lens) -> th.Tensor:\n",
    "        encoded_tensor_list = []\n",
    "\n",
    "        # self.extractors contain nn.Modules that do all the processing.\n",
    "        for key, extractor in self.extractors.items():\n",
    "            encoded_tensor_list.append(extractor(input_dict['obs'][key]))\n",
    "        # Return a (B, self._features_dim) PyTorch tensor, where B is batch dimension.\n",
    "        # raise ValueError(th.cat(encoded_tensor_list, dim=1))\n",
    "        return th.cat(encoded_tensor_list, dim=1), []\n",
    "ModelCatalog.register_custom_model(\n",
    "        \"my_torch_model\", CustomFeatureExtractor\n",
    "    )"
   ]
  },
  {
   "cell_type": "code",
   "execution_count": 6,
   "id": "0aeba31a",
   "metadata": {},
   "outputs": [],
   "source": [
    "from typing import Dict\n",
    "import numpy as np\n",
    "\n",
    "class L5EnvWrapper(gym.Wrapper):\n",
    "    def __init__(self, env):\n",
    "        super().__init__(env)\n",
    "        self.env = env\n",
    "        self.n_channels = 7\n",
    "        self.raster_size = 112\n",
    "        obs_shape = (self.raster_size, self.raster_size, self.n_channels)\n",
    "        self.observation_space =gym.spaces.Box(low=0, high=1, shape=obs_shape, dtype=np.float32)\n",
    "\n",
    "    def step(self, action:  np.ndarray) -> GymStepOutput:\n",
    "        # return GymStepOutput(obs, reward[\"total\"], done, info)\n",
    "        output =  self.env.step(action)\n",
    "        onlyImageState = output.obs['image'].reshape(self.raster_size, self.raster_size, self.n_channels)\n",
    "        return GymStepOutput(onlyImageState, output.reward, output.done, output.info)\n",
    "\n",
    "    def reset(self) -> Dict[str, np.ndarray]:\n",
    "        return self.env.reset()['image'].reshape(self.raster_size, self.raster_size, self.n_channels)"
   ]
  },
  {
   "cell_type": "code",
   "execution_count": 10,
   "id": "1f6b4442",
   "metadata": {},
   "outputs": [
    {
     "name": "stderr",
     "output_type": "stream",
     "text": [
      "/home/pronton/rl/l5kit/l5kit/l5kit/data/map_api.py:399: DeprecationWarning: `np.float` is a deprecated alias for the builtin `float`. To silence this warning, use `float` by itself. Doing this will not modify any behavior and is safe. If you specifically wanted the numpy scalar type, use `np.float64` here.\n",
      "Deprecated in NumPy 1.20; for more details and guidance: https://numpy.org/devdocs/release/1.20.0-notes.html#deprecations\n",
      "  lanes_bounds = np.empty((0, 2, 2), dtype=np.float)  # [(X_MIN, Y_MIN), (X_MAX, Y_MAX)]\n"
     ]
    }
   ],
   "source": [
    "callback_list = []\n",
    "\n",
    "env_kwargs = {'env_config_path': env_config_path, 'use_kinematic': True, 'sim_cfg': train_sim_cfg}\n",
    "env = L5EnvWrapper(L5Env(**env_kwargs))\n",
    "# Save Model Periodically\n",
    "save_freq = 100000\n",
    "save_path = './logs/'\n",
    "output = 'PPO'\n",
    "train_envs = 4\n",
    "eval_envs = 1\n",
    "checkpoint_callback = CheckpointCallback(save_freq=(save_freq // train_envs), save_path=save_path, \\\n",
    "                                         name_prefix=output)\n",
    "callback_list.append(checkpoint_callback)\n",
    "\n",
    "# Eval Model Periodically\n",
    "eval_freq = 100000\n",
    "n_eval_episodes = 1\n",
    "val_eval_callback = L5KitEvalCallback(env, eval_freq=(eval_freq // train_envs), \\\n",
    "                                      n_eval_episodes=n_eval_episodes, n_eval_envs=eval_envs)\n",
    "callback_list.append(val_eval_callback)"
   ]
  },
  {
   "cell_type": "code",
   "execution_count": 7,
   "id": "46fa9d33",
   "metadata": {},
   "outputs": [],
   "source": [
    "from wrapper import L5EnvWrapper\n",
    "train_sim_cfg = SimulationConfigGym()\n",
    "from ray import tune\n",
    "\n",
    "# Register , how your env should be constructed (always with 5, or you can take values from the `config` EnvContext object):\n",
    "env_kwargs = {'env_config_path': env_config_path, 'use_kinematic': True, 'sim_cfg': train_sim_cfg}\n",
    "\n",
    "tune.register_env(\"L5-CLE-V0\", lambda config: L5Env(**env_kwargs))\n",
    "tune.register_env(\"L5-CLE-V1\", lambda config: L5EnvWrapper(L5Env(**env_kwargs)))"
   ]
  },
  {
   "cell_type": "code",
   "execution_count": 8,
   "id": "85fe4313",
   "metadata": {},
   "outputs": [],
   "source": [
    "from customModel import GNCNN\n",
    "ModelCatalog.register_custom_model(\n",
    "        \"GN_CNN_torch_model\", GNCNN\n",
    "    )"
   ]
  },
  {
   "cell_type": "code",
   "execution_count": null,
   "id": "7e1075b5",
   "metadata": {},
   "outputs": [],
   "source": [
    "# Create the Trainer.\n",
    "algo = ppo.PPO(\n",
    "        env=\"L5-CLE-V1\",\n",
    "        config={\n",
    "            \"framework\": \"torch\",\n",
    "            \"model\": {\n",
    "                \"custom_model\": \"GN_CNN_torch_model\",\n",
    "                # Extra kwargs to be passed to your model's c'tor.\n",
    "                \"custom_model_config\": {'feature_dim':128},\n",
    "            },\n",
    "            '_disable_preprocessor_api': True,\n",
    "        },\n",
    "    )"
   ]
  },
  {
   "cell_type": "code",
   "execution_count": null,
   "id": "bd5c80e4",
   "metadata": {},
   "outputs": [],
   "source": [
    "# ray.init()\n",
    "train_envs = 4\n",
    "config = ppo.DEFAULT_CONFIG.copy()\n",
    "config[\"num_gpus\"] = 0\n",
    "config[\"framework\"] = 'tf2'\n",
    "config[\"num_workers\"] = 8\n",
    "config[\"num_envs_per_worker\"] = train_envs\n",
    "config['_disable_preprocessor_api'] = True,\n",
    "config[\"model\"][\"dim\"] = 112\n",
    "config[\"model\"][\"conv_filters\"] = [[64, 7, 3], [32, 11, 3], [256, 11, 3]]\n",
    "# config[\"log_level\"] = 1\n",
    "# config[\"evaluation_interval\"] = 1 # change to 10000\n",
    "# config[\"evaluation_duration\"] = \"auto\"\n",
    "# config[\"evaluation_parallel_to_training\"] = True,\n",
    "# config[\"evaluation_duration_unit\"] = \"timesteps\"\n",
    "# config[\"evaluation_num_workers\"] = 3\n",
    "# config[\"enable_async_evaluation\"] = True,\n",
    "\n",
    "# config[\"model\"][\"conv_activation\"] = 'relu'\n",
    "# config[\"model\"][\"post_fcnet_hiddens\"] =  [256]\n",
    "# config[\"model\"][\"post_fcnet_activation\"] = \"relu\",\n",
    "# config[\"train_batch_size\"] = 200\n",
    "algo = ppo.PPO(config=config, env=\"L5-CLE-V1\")"
   ]
  },
  {
   "cell_type": "code",
   "execution_count": 26,
   "id": "905e495a",
   "metadata": {},
   "outputs": [],
   "source": [
    "for i in range(400):\n",
    "    algo.train()"
   ]
  },
  {
   "cell_type": "code",
   "execution_count": null,
   "id": "44aa5878",
   "metadata": {},
   "outputs": [],
   "source": [
    "ray.init(num_cpus=3, ignore_reinit_error=True, log_to_driver=False)\n",
    "\n",
    "config = ppo.DEFAULT_CONFIG.copy()\n",
    "config['num_workers'] = 1\n",
    "config['num_sgd_iter'] = 30\n",
    "config['sgd_minibatch_size'] = 128\n",
    "config['num_cpus_per_worker'] = 0  # This avoids running out of resources in the notebook environment when this cell is re-executed\n",
    "config['framework'] = 'torch' \n",
    "# config['custom_model'] = CustomFeatureExtractor\n",
    "# config['custom_model_config'] = {\"features_dim\": 7, \"model_arch\": 'simple_gn'},\n",
    "\n",
    "# config['env_config'] = env_kwargs \n",
    "algo = ppo.PPO(config=config, env= 'L5-CLE-V1')"
   ]
  },
  {
   "cell_type": "code",
   "execution_count": null,
   "id": "29bddce2",
   "metadata": {},
   "outputs": [],
   "source": [
    "# Create the Trainer.\n",
    "algo = ppo.PPO(\n",
    "        env=\"L5-CLE-V0\",\n",
    "        config={\n",
    "            \n",
    "            \"framework\": \"torch\",\n",
    "            \"model\": {\n",
    "                # Auto-wrap the custom(!) model with an LSTM.\n",
    "                # \"use_lstm\": True,\n",
    "                # To further customize the LSTM auto-wrapper.\n",
    "                # \"lstm_cell_size\": 64,\n",
    "                # Specify our custom model from above.\n",
    "                \"custom_model\": \"my_torch_model\",\n",
    "                # Extra kwargs to be passed to your model's c'tor.\n",
    "                \"custom_model_config\": {'feature_dim': 128},\n",
    "            },\n",
    "            '_disable_preprocessor_api': True,\n",
    "        },\n",
    "    )"
   ]
  },
  {
   "cell_type": "code",
   "execution_count": null,
   "id": "b04c8313",
   "metadata": {},
   "outputs": [],
   "source": [
    "# Train on episodes of length 32 time steps\n",
    "train_eps_length = 32\n",
    "train_envs = 4\n",
    "\n",
    "# Evaluate on entire scene (~248 time steps)\n",
    "eval_eps_length = None\n",
    "eval_envs = 1\n",
    "\n",
    "# make train env\n",
    "train_sim_cfg = SimulationConfigGym()\n",
    "train_sim_cfg.num_simulation_steps = train_eps_length + 1\n",
    "env_kwargs = {'env_config_path': env_config_path, 'use_kinematic': True, 'sim_cfg': train_sim_cfg}\n",
    "env = make_vec_env(\"L5-CLE-v0\", env_kwargs=env_kwargs, n_envs=train_envs,\n",
    "                   vec_env_cls=SubprocVecEnv, vec_env_kwargs={\"start_method\": \"fork\"})\n",
    "\n",
    "# make eval env\n",
    "validation_sim_cfg = SimulationConfigGym()\n",
    "validation_sim_cfg.num_simulation_steps = None\n",
    "eval_env_kwargs = {'env_config_path': env_config_path, 'use_kinematic': True, \\\n",
    "                   'return_info': True, 'train': False, 'sim_cfg': validation_sim_cfg}\n",
    "eval_env = make_vec_env(\"L5-CLE-v0\", env_kwargs=eval_env_kwargs, n_envs=eval_envs,\n",
    "                        vec_env_cls=SubprocVecEnv, vec_env_kwargs={\"start_method\": \"fork\"})"
   ]
  },
  {
   "cell_type": "markdown",
   "id": "9dfc8b1a",
   "metadata": {},
   "source": [
    "### Define backbone feature extractor\n",
    "\n",
    "The backbone feature extractor is shared between the policy and the value networks. The feature extractor *simple_gn* is composed of two convolutional networks followed by a fully connected layer, with ReLU activation. The feature extractor output is passed to both the policy and value networks composed of two fully connected layers with tanh activation (SB3 default).\n",
    "\n",
    "We perform **group normalization** after every convolutional layer. Empirically, we found that group normalization performs far superior to batch normalization. This can be attributed to the fact that activation statistics change quickly in on-policy algorithms (PPO is on-policy) while batch-norm learnable parameters can be slow to update causing training issues."
   ]
  },
  {
   "cell_type": "code",
   "execution_count": 79,
   "id": "4da5ac39",
   "metadata": {},
   "outputs": [],
   "source": [
    "# A simple 2 Layer CNN architecture with group normalization\n",
    "model_arch = 'simple_gn'\n",
    "features_dim = 128\n",
    "\n",
    "# Custom Feature Extractor backbone\n",
    "policy_kwargs = {\n",
    "    \"features_extractor_class\": CustomFeatureExtractor,\n",
    "    \"features_extractor_kwargs\": {\"features_dim\": features_dim, \"model_arch\": model_arch},\n",
    "    \"normalize_images\": False\n",
    "}"
   ]
  },
  {
   "cell_type": "markdown",
   "id": "24ec4f23",
   "metadata": {},
   "source": [
    "### Clipping Schedule\n",
    "\n",
    "We linearly decrease the value of the clipping parameter $\\epsilon$ as the PPO training progress as it shows improved training stability"
   ]
  },
  {
   "cell_type": "code",
   "execution_count": 80,
   "id": "dc28b605",
   "metadata": {},
   "outputs": [],
   "source": [
    "# Clipping schedule of PPO epsilon parameter\n",
    "start_val = 0.1\n",
    "end_val = 0.01\n",
    "training_progress_ratio = 1.0\n",
    "clip_schedule = get_linear_fn(start_val, end_val, training_progress_ratio)"
   ]
  },
  {
   "cell_type": "markdown",
   "id": "8596deb6",
   "metadata": {},
   "source": [
    "### Hyperparameters for PPO. \n",
    "\n",
    "For detailed description, refer https://stable-baselines3.readthedocs.io/en/master/_modules/stable_baselines3/ppo/ppo.html#PPO"
   ]
  },
  {
   "cell_type": "code",
   "execution_count": 81,
   "id": "998a927f",
   "metadata": {},
   "outputs": [],
   "source": [
    "lr = 3e-4\n",
    "num_rollout_steps = 256\n",
    "gamma = 0.8\n",
    "gae_lambda = 0.9\n",
    "n_epochs = 10\n",
    "seed = 42\n",
    "batch_size = 64\n",
    "tensorboard_log = 'tb_log'"
   ]
  },
  {
   "cell_type": "markdown",
   "id": "a310190e",
   "metadata": {},
   "source": [
    "### Define the PPO Policy.\n",
    "\n",
    "SB3 provides an easy interface to the define the PPO policy. Note: We do need to tweak appropriate hyperparameters and the custom policy backbone has been defined above.\n"
   ]
  },
  {
   "cell_type": "code",
   "execution_count": null,
   "id": "d474019b",
   "metadata": {},
   "outputs": [],
   "source": [
    "# define model\n",
    "model = PPO(\"MultiInputPolicy\", env, policy_kwargs=policy_kwargs, verbose=1, n_steps=num_rollout_steps,\n",
    "            learning_rate=lr, gamma=gamma, tensorboard_log=tensorboard_log, n_epochs=n_epochs,\n",
    "            clip_range=clip_schedule, batch_size=batch_size, seed=seed, gae_lambda=gae_lambda)\n",
    "# model = SAC(\"CnnPolicy\", env, batch_size=batch_size, learning_rate= lr,\n",
    "#                     gamma=gamma,\n",
    "#                     buffer_size=10000,\n",
    "#                     tensorboard_log=tensorboard_log, \n",
    "#                     train_freq= (1, \"step\"),\n",
    "#                     gradient_steps=1, # gradient 1 time per 1 episode\n",
    "#                     target_update_interval=200, # each ...(200) steps, we update target_net (load weight from policy_net)\n",
    "#                     learning_starts=batch_size,\n",
    "#                     policy_kwargs=policy_kwargs,\n",
    "#                     verbose=1,\n",
    "#                     seed=42,\n",
    "#                     use_sde=True,\n",
    "#                     sde_sample_freq=-1,\n",
    "#                     use_sde_at_warmup=True,\n",
    "#                     tau=.95, \n",
    "#                     create_eval_env=True,\n",
    "#                     )"
   ]
  },
  {
   "cell_type": "markdown",
   "id": "53754180",
   "metadata": {},
   "source": [
    "### Defining Callbacks\n",
    "\n",
    "We can additionally define callbacks to save model checkpoints and evaluate models during training."
   ]
  },
  {
   "cell_type": "code",
   "execution_count": null,
   "id": "f19803ea",
   "metadata": {},
   "outputs": [],
   "source": [
    "callback_list = []\n",
    "\n",
    "# Save Model Periodically\n",
    "save_freq = 100000\n",
    "save_path = './logs/'\n",
    "output = 'PPO'\n",
    "output = 'SAC'\n",
    "checkpoint_callback = CheckpointCallback(save_freq=(save_freq // train_envs), save_path=save_path, \\\n",
    "                                         name_prefix=output)\n",
    "callback_list.append(checkpoint_callback)\n",
    "\n",
    "# Eval Model Periodically\n",
    "eval_freq = 100000\n",
    "n_eval_episodes = 1\n",
    "val_eval_callback = L5KitEvalCallback(eval_env, eval_freq=(eval_freq // train_envs), \\\n",
    "                                      n_eval_episodes=n_eval_episodes, n_eval_envs=eval_envs)\n",
    "callback_list.append(val_eval_callback)\n"
   ]
  },
  {
   "cell_type": "markdown",
   "id": "ad3bda21",
   "metadata": {},
   "source": [
    "### Train"
   ]
  },
  {
   "cell_type": "code",
   "execution_count": null,
   "id": "087f4e09",
   "metadata": {},
   "outputs": [],
   "source": [
    "n_steps = 300000\n",
    "model.learn(n_steps, callback=callback_list)\n"
   ]
  },
  {
   "cell_type": "markdown",
   "id": "575327a2",
   "metadata": {},
   "source": [
    "**Voila!** We have a trained PPO policy! Train for larger number of steps for better accuracy. Typical RL algorithms require training atleast 1M steps for good convergence. You can visualize the quantitiative evaluation using tensorboard."
   ]
  },
  {
   "cell_type": "code",
   "execution_count": null,
   "id": "9bc491a2",
   "metadata": {
    "scrolled": true
   },
   "outputs": [],
   "source": [
    "# Visualize Tensorboard logs (!! run on local terminal !!)\n",
    "!tensorboard --logdir tb_log"
   ]
  },
  {
   "cell_type": "code",
   "execution_count": null,
   "id": "a92faa17",
   "metadata": {},
   "outputs": [],
   "source": [
    "model = PPO.load(\"../logs/PPO_20000_steps.zip\")"
   ]
  },
  {
   "cell_type": "markdown",
   "id": "d24f956c",
   "metadata": {},
   "source": [
    "### Visualize the episode from the environment\n",
    "\n",
    "We can easily visualize the outputs obtained by rolling out episodes in the L5Kit using the Bokeh visualizer."
   ]
  },
  {
   "cell_type": "code",
   "execution_count": null,
   "id": "fcd2b424",
   "metadata": {},
   "outputs": [],
   "source": [
    "rollout_sim_cfg = SimulationConfigGym()\n",
    "rollout_sim_cfg.num_simulation_steps = None\n",
    "rollout_env = gym.make(\"L5-CLE-v0\", env_config_path=env_config_path, sim_cfg=rollout_sim_cfg, \\\n",
    "                       use_kinematic=True, train=False, return_info=True)\n",
    "\n",
    "def rollout_episode(model, env, idx = 0):\n",
    "    \"\"\"Rollout a particular scene index and return the simulation output.\n",
    "\n",
    "    :param model: the RL policy\n",
    "    :param env: the gym environment\n",
    "    :param idx: the scene index to be rolled out\n",
    "    :return: the episode output of the rolled out scene\n",
    "    \"\"\"\n",
    "\n",
    "    # Set the reset_scene_id to 'idx'\n",
    "    env.reset_scene_id = idx\n",
    "    \n",
    "    # Rollout step-by-step\n",
    "    obs = env.reset()\n",
    "    done = False\n",
    "    while True:\n",
    "        action, _ = model.predict(obs, deterministic=True)\n",
    "        obs, _, done, info = env.step(action)\n",
    "        if done:\n",
    "            break\n",
    "\n",
    "    # The episode outputs are present in the key \"sim_outs\"\n",
    "    sim_out = info[\"sim_outs\"][0]\n",
    "    return sim_out\n",
    "\n",
    "# Rollout one episode\n",
    "sim_out = rollout_episode(model, rollout_env)"
   ]
  },
  {
   "cell_type": "code",
   "execution_count": null,
   "id": "7e383cff",
   "metadata": {},
   "outputs": [],
   "source": [
    "# might change with different rasterizer\n",
    "map_API = rollout_env.dataset.rasterizer.sem_rast.mapAPI\n",
    "\n",
    "def visualize_outputs(sim_outs, map_API):\n",
    "    for sim_out in sim_outs: # for each scene\n",
    "        vis_in = episode_out_to_visualizer_scene_gym_cle(sim_out, map_API)\n",
    "        show(visualize(sim_out.scene_id, vis_in))\n",
    "\n",
    "output_notebook()\n",
    "visualize_outputs([sim_out], map_API)"
   ]
  }
 ],
 "metadata": {
  "kernelspec": {
   "display_name": "Python 3.8.10 ('l5kit-nr_j5XnQ')",
   "language": "python",
   "name": "python3"
  },
  "language_info": {
   "codemirror_mode": {
    "name": "ipython",
    "version": 3
   },
   "file_extension": ".py",
   "mimetype": "text/x-python",
   "name": "python",
   "nbconvert_exporter": "python",
   "pygments_lexer": "ipython3",
   "version": "3.8.10"
  },
  "vscode": {
   "interpreter": {
    "hash": "6df7c2a3d813445d6b3c74a479f8d37af444dbb4628cead36b7b0d6872de20bd"
   }
  }
 },
 "nbformat": 4,
 "nbformat_minor": 5
}
