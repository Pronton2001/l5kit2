{
 "cells": [
  {
   "cell_type": "markdown",
   "id": "d9afa518",
   "metadata": {
    "id": "f7f64953",
    "tags": []
   },
   "source": [
    "### Training RL Policies using L5Kit Closed-Loop Environment\n",
    "\n",
    "This notebook describes how to train RL policies for self-driving using our gym-compatible closed-loop environment.\n",
    "\n",
    "We will be using [Proximal Policy Optimization (PPO)](https://arxiv.org/abs/1707.06347) algorithm as our reinforcement learning algorithm, as it not only demonstrates remarkable performance but it is also empirically easy to tune.\n",
    "\n",
    "The PPO implementation in this notebook is based on [Stable Baselines3](https://github.com/DLR-RM/stable-baselines3) framework, a popular framework for training RL policies. Note that our environment is also compatible with [RLlib](https://docs.ray.io/en/latest/rllib.html), another popular frameworks for the same."
   ]
  },
  {
   "cell_type": "markdown",
   "id": "7e420adb",
   "metadata": {
    "id": "ulK_RDB4e_gx"
   },
   "source": [
    "ref: \n",
    "([rllib] Best workflow to train, save, and test agent #9123\n",
    ")[https://github.com/ray-project/ray/issues/9123]"
   ]
  },
  {
   "cell_type": "code",
   "execution_count": 3,
   "id": "364e3af3",
   "metadata": {
    "colab": {
     "base_uri": "https://localhost:8080/"
    },
    "id": "smZ0MKsHE2_s",
    "outputId": "631f2d2d-38ee-45ba-f658-b7d11c59139b",
    "tags": []
   },
   "outputs": [],
   "source": [
    "import os\n",
    "os.environ[\"L5KIT_DATA_FOLDER\"] = '/workspace/datasets'\n",
    "# os.environ[\"TUNE_RESULT_DIR\"] =  '/DATA/l5kit/rllib_tb_logs'"
   ]
  },
  {
   "cell_type": "code",
   "execution_count": 4,
   "id": "a378e9d2",
   "metadata": {
    "id": "585b1fe7",
    "tags": []
   },
   "outputs": [
    {
     "ename": "ModuleNotFoundError",
     "evalue": "No module named 'l5kit.configs'",
     "output_type": "error",
     "traceback": [
      "\u001b[0;31m---------------------------------------------------------------------------\u001b[0m",
      "\u001b[0;31mModuleNotFoundError\u001b[0m                       Traceback (most recent call last)",
      "\u001b[0;32m/tmp/ipykernel_9306/711269422.py\u001b[0m in \u001b[0;36m<module>\u001b[0;34m\u001b[0m\n\u001b[1;32m      7\u001b[0m \u001b[0;31m# from stable_baselines3.common.vec_env import SubprocVecEnv\u001b[0m\u001b[0;34m\u001b[0m\u001b[0;34m\u001b[0m\u001b[0;34m\u001b[0m\u001b[0m\n\u001b[1;32m      8\u001b[0m \u001b[0;34m\u001b[0m\u001b[0m\n\u001b[0;32m----> 9\u001b[0;31m \u001b[0;32mfrom\u001b[0m \u001b[0ml5kit\u001b[0m\u001b[0;34m.\u001b[0m\u001b[0mconfigs\u001b[0m \u001b[0;32mimport\u001b[0m \u001b[0mload_config_data\u001b[0m\u001b[0;34m\u001b[0m\u001b[0;34m\u001b[0m\u001b[0m\n\u001b[0m\u001b[1;32m     10\u001b[0m \u001b[0;31m# from l5kit.environment.feature_extractor import CustomFeatureExtractor\u001b[0m\u001b[0;34m\u001b[0m\u001b[0;34m\u001b[0m\u001b[0;34m\u001b[0m\u001b[0m\n\u001b[1;32m     11\u001b[0m \u001b[0;31m# from l5kit.environment.callbacks import L5KitEvalCallback\u001b[0m\u001b[0;34m\u001b[0m\u001b[0;34m\u001b[0m\u001b[0;34m\u001b[0m\u001b[0m\n",
      "\u001b[0;31mModuleNotFoundError\u001b[0m: No module named 'l5kit.configs'"
     ]
    }
   ],
   "source": [
    "import gym\n",
    "\n",
    "# from stable_baselines3 import PPO\n",
    "# from stable_baselines3.common.callbacks import CheckpointCallback\n",
    "# from stable_baselines3.common.env_util import make_vec_env\n",
    "# from stable_baselines3.common.utils import get_linear_fn\n",
    "# from stable_baselines3.common.vec_env import SubprocVecEnv\n",
    "\n",
    "from l5kit.configs import load_config_data\n",
    "# from l5kit.environment.feature_extractor import CustomFeatureExtractor\n",
    "# from l5kit.environment.callbacks import L5KitEvalCallback\n",
    "from l5kit.environment.envs.l5_env import SimulationConfigGym, GymStepOutput, L5Env\n",
    "\n",
    "from l5kit.visualization.visualizer.zarr_utils import episode_out_to_visualizer_scene_gym_cle\n",
    "from l5kit.visualization.visualizer.visualizer import visualize\n",
    "from bokeh.io import output_notebook, show\n",
    "from l5kit.environment.gym_metric_set import L2DisplacementYawMetricSet, CLEMetricSet\n",
    "from prettytable import PrettyTable\n",
    "import datetime\n",
    "from ray.rllib.models import ModelCatalog\n",
    "from ray.rllib.models.torch.torch_modelv2 import TorchModelV2\n",
    "import torch.nn as nn\n",
    "import numpy as np\n",
    "import gym\n",
    "from typing import Dict\n",
    "import numpy as np\n",
    "import ray\n",
    "import pytz\n"
   ]
  },
  {
   "cell_type": "code",
   "execution_count": 5,
   "id": "d992c5c9-c9b7-4883-8830-82b445dea2c3",
   "metadata": {
    "tags": []
   },
   "outputs": [
    {
     "ename": "ModuleNotFoundError",
     "evalue": "No module named 'l5kit'",
     "output_type": "error",
     "traceback": [
      "\u001b[0;31m---------------------------------------------------------------------------\u001b[0m",
      "\u001b[0;31mModuleNotFoundError\u001b[0m                       Traceback (most recent call last)",
      "\u001b[0;32m/tmp/ipykernel_8548/658083473.py\u001b[0m in \u001b[0;36m<module>\u001b[0;34m\u001b[0m\n\u001b[0;32m----> 1\u001b[0;31m \u001b[0;32mimport\u001b[0m \u001b[0ml5kit\u001b[0m\u001b[0;34m\u001b[0m\u001b[0;34m\u001b[0m\u001b[0m\n\u001b[0m",
      "\u001b[0;31mModuleNotFoundError\u001b[0m: No module named 'l5kit'"
     ]
    }
   ],
   "source": [
    "import l5kit"
   ]
  },
  {
   "cell_type": "markdown",
   "id": "95d08f35",
   "metadata": {
    "id": "xHfH5HGWoTD7",
    "tags": []
   },
   "source": [
    "## Init ray and env"
   ]
  },
  {
   "cell_type": "code",
   "execution_count": 3,
   "id": "e8fa5634",
   "metadata": {
    "colab": {
     "base_uri": "https://localhost:8080/",
     "height": 77
    },
    "id": "hnJ6GUQ4hMVI",
    "outputId": "dd9168e0-5b52-463b-8e1b-c3d45c303eb6",
    "tags": []
   },
   "outputs": [
    {
     "name": "stderr",
     "output_type": "stream",
     "text": [
      "2023-03-16 17:21:30,499\tINFO worker.py:1538 -- Started a local Ray instance.\n"
     ]
    },
    {
     "data": {
      "text/html": [
       "<div>\n",
       "    <div style=\"margin-left: 50px;display: flex;flex-direction: row;align-items: center\">\n",
       "        <h3 style=\"color: var(--jp-ui-font-color0)\">Ray</h3>\n",
       "        <svg version=\"1.1\" id=\"ray\" width=\"3em\" viewBox=\"0 0 144.5 144.6\" style=\"margin-left: 3em;margin-right: 3em\">\n",
       "            <g id=\"layer-1\">\n",
       "                <path fill=\"#00a2e9\" class=\"st0\" d=\"M97.3,77.2c-3.8-1.1-6.2,0.9-8.3,5.1c-3.5,6.8-9.9,9.9-17.4,9.6S58,88.1,54.8,81.2c-1.4-3-3-4-6.3-4.1\n",
       "                    c-5.6-0.1-9.9,0.1-13.1,6.4c-3.8,7.6-13.6,10.2-21.8,7.6C5.2,88.4-0.4,80.5,0,71.7c0.1-8.4,5.7-15.8,13.8-18.2\n",
       "                    c8.4-2.6,17.5,0.7,22.3,8c1.3,1.9,1.3,5.2,3.6,5.6c3.9,0.6,8,0.2,12,0.2c1.8,0,1.9-1.6,2.4-2.8c3.5-7.8,9.7-11.8,18-11.9\n",
       "                    c8.2-0.1,14.4,3.9,17.8,11.4c1.3,2.8,2.9,3.6,5.7,3.3c1-0.1,2,0.1,3,0c2.8-0.5,6.4,1.7,8.1-2.7s-2.3-5.5-4.1-7.5\n",
       "                    c-5.1-5.7-10.9-10.8-16.1-16.3C84,38,81.9,37.1,78,38.3C66.7,42,56.2,35.7,53,24.1C50.3,14,57.3,2.8,67.7,0.5\n",
       "                    C78.4-2,89,4.7,91.5,15.3c0.1,0.3,0.1,0.5,0.2,0.8c0.7,3.4,0.7,6.9-0.8,9.8c-1.7,3.2-0.8,5,1.5,7.2c6.7,6.5,13.3,13,19.8,19.7\n",
       "                    c1.8,1.8,3,2.1,5.5,1.2c9.1-3.4,17.9-0.6,23.4,7c4.8,6.9,4.6,16.1-0.4,22.9c-5.4,7.2-14.2,9.9-23.1,6.5c-2.3-0.9-3.5-0.6-5.1,1.1\n",
       "                    c-6.7,6.9-13.6,13.7-20.5,20.4c-1.8,1.8-2.5,3.2-1.4,5.9c3.5,8.7,0.3,18.6-7.7,23.6c-7.9,5-18.2,3.8-24.8-2.9\n",
       "                    c-6.4-6.4-7.4-16.2-2.5-24.3c4.9-7.8,14.5-11,23.1-7.8c3,1.1,4.7,0.5,6.9-1.7C91.7,98.4,98,92.3,104.2,86c1.6-1.6,4.1-2.7,2.6-6.2\n",
       "                    c-1.4-3.3-3.8-2.5-6.2-2.6C99.8,77.2,98.9,77.2,97.3,77.2z M72.1,29.7c5.5,0.1,9.9-4.3,10-9.8c0-0.1,0-0.2,0-0.3\n",
       "                    C81.8,14,77,9.8,71.5,10.2c-5,0.3-9,4.2-9.3,9.2c-0.2,5.5,4,10.1,9.5,10.3C71.8,29.7,72,29.7,72.1,29.7z M72.3,62.3\n",
       "                    c-5.4-0.1-9.9,4.2-10.1,9.7c0,0.2,0,0.3,0,0.5c0.2,5.4,4.5,9.7,9.9,10c5.1,0.1,9.9-4.7,10.1-9.8c0.2-5.5-4-10-9.5-10.3\n",
       "                    C72.6,62.3,72.4,62.3,72.3,62.3z M115,72.5c0.1,5.4,4.5,9.7,9.8,9.9c5.6-0.2,10-4.8,10-10.4c-0.2-5.4-4.6-9.7-10-9.7\n",
       "                    c-5.3-0.1-9.8,4.2-9.9,9.5C115,72.1,115,72.3,115,72.5z M19.5,62.3c-5.4,0.1-9.8,4.4-10,9.8c-0.1,5.1,5.2,10.4,10.2,10.3\n",
       "                    c5.6-0.2,10-4.9,9.8-10.5c-0.1-5.4-4.5-9.7-9.9-9.6C19.6,62.3,19.5,62.3,19.5,62.3z M71.8,134.6c5.9,0.2,10.3-3.9,10.4-9.6\n",
       "                    c0.5-5.5-3.6-10.4-9.1-10.8c-5.5-0.5-10.4,3.6-10.8,9.1c0,0.5,0,0.9,0,1.4c-0.2,5.3,4,9.8,9.3,10\n",
       "                    C71.6,134.6,71.7,134.6,71.8,134.6z\"/>\n",
       "            </g>\n",
       "        </svg>\n",
       "        <table>\n",
       "            <tr>\n",
       "                <td style=\"text-align: left\"><b>Python version:</b></td>\n",
       "                <td style=\"text-align: left\"><b>3.7.11</b></td>\n",
       "            </tr>\n",
       "            <tr>\n",
       "                <td style=\"text-align: left\"><b>Ray version:</b></td>\n",
       "                <td style=\"text-align: left\"><b> 2.2.0</b></td>\n",
       "            </tr>\n",
       "            \n",
       "        </table>\n",
       "    </div>\n",
       "</div>\n"
      ],
      "text/plain": [
       "RayContext(dashboard_url='', python_version='3.7.11', ray_version='2.2.0', ray_commit='b6af0887ee5f2e460202133791ad941a41f15beb', address_info={'node_ip_address': '172.17.0.2', 'raylet_ip_address': '172.17.0.2', 'redis_address': None, 'object_store_address': '/tmp/ray/session_2023-03-16_17-21-28_783572_8154/sockets/plasma_store', 'raylet_socket_name': '/tmp/ray/session_2023-03-16_17-21-28_783572_8154/sockets/raylet', 'webui_url': '', 'session_dir': '/tmp/ray/session_2023-03-16_17-21-28_783572_8154', 'metrics_export_port': 64277, 'gcs_address': '172.17.0.2:50880', 'address': '172.17.0.2:50880', 'dashboard_agent_listen_port': 52365, 'node_id': '21f138f3bb118d5df23f1782077d70ef53975d6be7184a63a2d1d961'})"
      ]
     },
     "execution_count": 3,
     "metadata": {},
     "output_type": "execute_result"
    }
   ],
   "source": [
    "ray.init(num_cpus=3, ignore_reinit_error=True, log_to_driver=False)"
   ]
  },
  {
   "cell_type": "code",
   "execution_count": 3,
   "id": "a8d551fe",
   "metadata": {
    "id": "2ea81f77",
    "tags": []
   },
   "outputs": [],
   "source": [
    "# Dataset is assumed to be on the folder specified\n",
    "# in the L5KIT_DATA_FOLDER environment variable\n",
    "from l5kit.configs import load_config_data\n",
    "\n",
    "# get environment config\n",
    "l5kit_path = source/examples/code/config\n",
    "env_config_path = '/DATA/l5kit/configs/gym_config.yaml'\n",
    "cfg = load_config_data(env_config_path)\n"
   ]
  },
  {
   "cell_type": "markdown",
   "id": "4f732ad6",
   "metadata": {
    "id": "eBwt9neMoj9h",
    "tags": []
   },
   "source": [
    "## Customize my model"
   ]
  },
  {
   "cell_type": "code",
   "execution_count": 4,
   "id": "8fd058ae",
   "metadata": {
    "id": "fs23j_7Som37",
    "tags": []
   },
   "outputs": [],
   "source": [
    "from ray.rllib.models import ModelCatalog\n",
    "class GNCNN(TorchModelV2, nn.Module):\n",
    "    \"\"\"\n",
    "    Simple Convolution agent that calculates the required linear output layer\n",
    "    \"\"\"\n",
    "\n",
    "    def __init__(self, obs_space, action_space, num_outputs, model_config, name):\n",
    "        super().__init__(obs_space, action_space, num_outputs, model_config, name)\n",
    "        nn.Module.__init__(self)\n",
    "\n",
    "        # raise ValueError(obs_space.shape)\n",
    "        self._num_objects = obs_space.shape[2] # num_of_channels of input, size x size x channels\n",
    "        self._num_actions = num_outputs\n",
    "        self._feature_dim = model_config[\"custom_model_config\"]['feature_dim']\n",
    "\n",
    "        self.network = nn.Sequential(\n",
    "            nn.Conv2d(self._num_objects, 64, kernel_size=(7, 7), stride=(2, 2), padding=(3, 3), bias=False),\n",
    "            nn.GroupNorm(4, 64),\n",
    "            nn.ReLU(),\n",
    "            nn.MaxPool2d(kernel_size=2, stride=2),\n",
    "            nn.Conv2d(64, 32, kernel_size=(7, 7), stride=(2, 2), padding=(3, 3), bias=False),\n",
    "            nn.GroupNorm(2, 32),\n",
    "            nn.ReLU(),\n",
    "            nn.MaxPool2d(kernel_size=2, stride=2),\n",
    "            nn.Flatten(),\n",
    "            nn.Linear(in_features=1568, out_features=self._feature_dim),\n",
    "        )\n",
    "\n",
    "        self._actor_head = nn.Sequential(\n",
    "            nn.Linear(self._feature_dim, 256),\n",
    "            nn.ReLU(),\n",
    "            nn.Linear(256, self._num_actions),\n",
    "        )\n",
    "\n",
    "        self._critic_head = nn.Sequential(\n",
    "            nn.Linear(self._feature_dim, 1),\n",
    "        )\n",
    "\n",
    "    def forward(self, input_dict, state, seq_lens):\n",
    "        obs_transformed = input_dict['obs'].permute(0, 3, 1, 2) # 32 x 112 x 112 x 7 [B, size, size, channels]\n",
    "        network_output = self.network(obs_transformed)\n",
    "        value = self._critic_head(network_output)\n",
    "        self._value = value.reshape(-1)\n",
    "        logits = self._actor_head(network_output)\n",
    "        return logits, state\n",
    "\n",
    "    def value_function(self):\n",
    "        return self._value\n",
    "\n",
    "ModelCatalog.register_custom_model(\"GN_CNN_torch_model\", GNCNN)\n"
   ]
  },
  {
   "cell_type": "code",
   "execution_count": 5,
   "id": "cd87b739-34db-49c7-a22e-9d3de0aa54b3",
   "metadata": {},
   "outputs": [],
   "source": [
    "from ray.rllib.models import ModelCatalog\n",
    "class GNCNN_separated(TorchModelV2, nn.Module):\n",
    "    \"\"\"\n",
    "    Simple Convolution agent that calculates the required linear output layer\n",
    "    \"\"\"\n",
    "\n",
    "    def __init__(self, obs_space, action_space, num_outputs, model_config, name):\n",
    "        super().__init__(obs_space, action_space, num_outputs, model_config, name)\n",
    "        nn.Module.__init__(self)\n",
    "\n",
    "        # raise ValueError(obs_space.shape)\n",
    "        self._num_objects = obs_space.shape[2] # num_of_channels of input, size x size x channels\n",
    "        self._num_actions = num_outputs\n",
    "        self._feature_dim = model_config[\"custom_model_config\"]['feature_dim']\n",
    "\n",
    "        self._actor_head = nn.Sequential(\n",
    "            nn.Conv2d(self._num_objects, 64, kernel_size=(7, 7), stride=(2, 2), padding=(3, 3), bias=False),\n",
    "            nn.GroupNorm(4, 64),\n",
    "            nn.ReLU(),\n",
    "            nn.MaxPool2d(kernel_size=2, stride=2),\n",
    "            nn.Conv2d(64, 32, kernel_size=(7, 7), stride=(2, 2), padding=(3, 3), bias=False),\n",
    "            nn.GroupNorm(2, 32),\n",
    "            nn.ReLU(),\n",
    "            nn.MaxPool2d(kernel_size=2, stride=2),\n",
    "            nn.Flatten(),\n",
    "            nn.Linear(in_features=1568, out_features=self._feature_dim),\n",
    "            nn.Linear(self._feature_dim, 256),\n",
    "            nn.ReLU(),\n",
    "            nn.Linear(256, self._num_actions),\n",
    "        )\n",
    "\n",
    "        self._critic_head = nn.Sequential(\n",
    "            nn.Conv2d(self._num_objects, 64, kernel_size=(7, 7), stride=(2, 2), padding=(3, 3), bias=False),\n",
    "            nn.GroupNorm(4, 64),\n",
    "            nn.ReLU(),\n",
    "            nn.MaxPool2d(kernel_size=2, stride=2),\n",
    "            nn.Conv2d(64, 32, kernel_size=(7, 7), stride=(2, 2), padding=(3, 3), bias=False),\n",
    "            nn.GroupNorm(2, 32),\n",
    "            nn.ReLU(),\n",
    "            nn.MaxPool2d(kernel_size=2, stride=2),\n",
    "            nn.Flatten(),\n",
    "            nn.Linear(in_features=1568, out_features=self._feature_dim),\n",
    "            nn.Linear(self._feature_dim, 1),\n",
    "        )\n",
    "\n",
    "    def forward(self, input_dict, state, seq_lens):\n",
    "        obs_transformed = input_dict['obs'].permute(0, 3, 1, 2) # 32 x 112 x 112 x 7 [B, size, size, channels]\n",
    "        # network_output = self.network(obs_transformed)\n",
    "        value = self._critic_head(obs_transformed)\n",
    "        self._value = value.reshape(-1)\n",
    "        logits = self._actor_head(obs_transformed)\n",
    "        return logits, state\n",
    "\n",
    "    def value_function(self):\n",
    "        return self._value\n",
    "ModelCatalog.register_custom_model(\n",
    "        \"GN_CNN_separated_torch_model\", GNCNN_separated\n",
    "    )\n"
   ]
  },
  {
   "cell_type": "markdown",
   "id": "5cfe748f",
   "metadata": {
    "id": "2cead394"
   },
   "source": [
    "## Define Training and Evaluation Environments\n",
    "\n",
    "**Training**: We will be training the PPO policy on episodes of length 32 time-steps. We will have 4 sub-processes (training environments) that will help to parallelize and speeden up episode rollouts. The *SimConfig* dataclass will define the parameters of the episode rollout: like length of episode rollout, whether to use log-replayed agents or simulated agents etc.\n",
    "\n",
    "**Evaluation**: We will evaluate the performance of the PPO policy on the *entire* scene (~248 time-steps)."
   ]
  },
  {
   "cell_type": "markdown",
   "id": "24674ab9",
   "metadata": {
    "id": "0CAZm9UDo1C0",
    "tags": []
   },
   "source": [
    "## Customize gym env"
   ]
  },
  {
   "cell_type": "code",
   "execution_count": 6,
   "id": "5aec2c16",
   "metadata": {
    "id": "IJC1ix47g1Y4"
   },
   "outputs": [],
   "source": [
    "class L5EnvWrapper(gym.Wrapper):\n",
    "    def __init__(self, env, raster_size = 112, n_channels = 7):\n",
    "        super().__init__(env)\n",
    "        self.env = env\n",
    "        self.n_channels = n_channels\n",
    "        self.raster_size = raster_size\n",
    "        obs_shape = (self.raster_size, self.raster_size, self.n_channels)\n",
    "        self.observation_space =gym.spaces.Box(low=0, high=1, shape=obs_shape, dtype=np.float32)\n",
    "\n",
    "    def step(self, action:  np.ndarray) -> GymStepOutput:\n",
    "        # return GymStepOutput(obs, reward[\"total\"], done, info)\n",
    "        output =  self.env.step(action)\n",
    "        onlyImageState = output.obs['image'].reshape(self.raster_size, self.raster_size, self.n_channels)\n",
    "        return GymStepOutput(onlyImageState, output.reward, output.done, output.info)\n",
    "\n",
    "    def reset(self) -> Dict[str, np.ndarray]:\n",
    "        return self.env.reset()['image'].reshape(self.raster_size, self.raster_size, self.n_channels)"
   ]
  },
  {
   "cell_type": "code",
   "execution_count": 8,
   "id": "fd67c448",
   "metadata": {
    "id": "XfXbbfjCg3aw"
   },
   "outputs": [],
   "source": [
    "from ray import tune\n",
    "train_eps_length = 32\n",
    "train_sim_cfg = SimulationConfigGym()\n",
    "train_sim_cfg.num_simulation_steps = train_eps_length + 1\n",
    "\n",
    "\n",
    "# Register , how your env should be constructed (always with 5, or you can take values from the `config` EnvContext object):\n",
    "env_kwargs = {'env_config_path': env_config_path, 'use_kinematic': True, 'sim_cfg': train_sim_cfg}\n",
    "\n",
    "tune.register_env(\"L5-CLE-V0\", lambda config: L5Env(**env_kwargs))\n",
    "tune.register_env(\"L5-CLE-V1\", lambda config: L5EnvWrapper(env = L5Env(**env_kwargs), \\\n",
    "                                                           raster_size= cfg['raster_params']['raster_size'][0], \\\n",
    "                                                           n_channels = 7))"
   ]
  },
  {
   "cell_type": "markdown",
   "id": "f53e7375",
   "metadata": {
    "id": "rg8sxEnanVxL",
    "jp-MarkdownHeadingCollapsed": true,
    "tags": []
   },
   "source": [
    "## Train"
   ]
  },
  {
   "cell_type": "markdown",
   "id": "c3a717ac",
   "metadata": {
    "id": "LlFBhHgZfx5f",
    "jp-MarkdownHeadingCollapsed": true,
    "tags": []
   },
   "source": [
    "### ref\n",
    "\n",
    "Resume stop tune: https://docs.ray.io/en/latest/tune/tutorials/tune-stopping.html\n",
    "\n",
    "tune.Tuner analysis: https://docs.ray.io/en/latest/rllib/rllib-training.html#basic-python-api\n",
    "\n",
    "get best result, load from dir: https://docs.ray.io/en/master/tune/examples/tune_analyze_results.html#trial-level-analysis-working-with-an-individual-result\n",
    "\n",
    "### Hyperparam\n",
    "```\n",
    "lr = 3e-4\n",
    "num_rollout_steps = 256\n",
    "gamma = 0.8\n",
    "gae_lambda = 0.9\n",
    "n_epochs = 10\n",
    "seed = 42\n",
    "batch_size = 64\n",
    "```\n",
    "### Clipping schedule of PPO epsilon parameter\n",
    "```\n",
    "start_val = 0.1\n",
    "end_val = 0.01\n",
    "training_progress_ratio = 1.0\n",
    "clip_schedule = get_linear_fn(start_val, end_val, training_progress_ratio)\n",
    "```"
   ]
  },
  {
   "cell_type": "code",
   "execution_count": null,
   "id": "975bc7ad-0032-4a6c-b85b-f45911b1b2e3",
   "metadata": {},
   "outputs": [],
   "source": [
    "!wandb login 083592c84134c040dcca598c644c348d32540a08"
   ]
  },
  {
   "cell_type": "code",
   "execution_count": null,
   "id": "c6a952aa-ef4f-4116-988e-ad36f06eec6a",
   "metadata": {},
   "outputs": [],
   "source": [
    "import numpy as np\n",
    "\n",
    "import ray\n",
    "from ray import air, tune\n",
    "from ray.air import session\n",
    "from ray.air.integrations.wandb import setup_wandb\n",
    "from ray.air.integrations.wandb import WandbLoggerCallback\n",
    "os.environ['WANDB_NOTEBOOK_NAME'] = '/DATA/rllib_ppo_policy_training.ipynb'\n",
    "os.environ[\"WANDB_API_KEY\"] = '083592c84134c040dcca598c644c348d32540a08'"
   ]
  },
  {
   "cell_type": "code",
   "execution_count": null,
   "id": "588ebe4f-cd2a-4989-90db-c1f8a337e2be",
   "metadata": {},
   "outputs": [],
   "source": [
    "import wandb\n",
    "wandb.init(project=\"l5kit2\", reinit = True)"
   ]
  },
  {
   "cell_type": "markdown",
   "id": "a9f77763-3a6c-44bb-861f-970ea051a223",
   "metadata": {
    "tags": []
   },
   "source": [
    "### shared polocy"
   ]
  },
  {
   "cell_type": "code",
   "execution_count": null,
   "id": "03b2ba45",
   "metadata": {
    "colab": {
     "base_uri": "https://localhost:8080/",
     "height": 1000
    },
    "id": "gbfV227Jct2l",
    "outputId": "fd5c0af4-ad87-4a5d-a526-58dfad3b8646",
    "tags": []
   },
   "outputs": [],
   "source": [
    "import ray\n",
    "from ray import air, tune\n",
    "\n",
    "train_envs = 4\n",
    "hcmTz = pytz.timezone(\"Asia/Ho_Chi_Minh\") \n",
    "date = datetime.datetime.now(hcmTz).strftime(\"%d-%m-%Y_%H-%M-%S\")\n",
    "ray_result_logdir = '/DATA/l5kit/ray_results/' + date\n",
    "\n",
    "config_param_space = {\n",
    "    \"env\": \"L5-CLE-V1\",\n",
    "    \"framework\": \"torch\",\n",
    "    \"num_gpus\": 1,\n",
    "    \"num_workers\": 63,\n",
    "    \"num_envs_per_worker\": train_envs,\n",
    "    'num_sgd_iter': 5,\n",
    "    'sgd_minibatch_size': 256,\n",
    "    # 'num_cpus_per_worker': 0,  # This avoids running out of resources in the notebook environment when this cell is re-executed\n",
    "    \"model\": {\n",
    "        \"custom_model\": \"GN_CNN_torch_model\",\n",
    "        \"custom_model_config\": {'feature_dim':128},\n",
    "    },\n",
    "    \n",
    "    '_disable_preprocessor_api': True,\n",
    "     \"eager_tracing\": True,\n",
    "     \"restart_failed_sub_environments\": True,\n",
    "    \"lr\": 0.0003,\n",
    "    \"gamma\": 0.8,\n",
    "    'seed': 42,\n",
    "}\n",
    "\n",
    "result_grid = tune.Tuner(\n",
    "    \"PPO\",\n",
    "    run_config=air.RunConfig(\n",
    "        stop={\"episode_reward_mean\": 0, 'timesteps_total': int(6e6)},\n",
    "        local_dir=ray_result_logdir,\n",
    "        checkpoint_config=air.CheckpointConfig(num_to_keep=4, checkpoint_frequency = 10, checkpoint_score_attribute = 'episode_reward_mean')\n",
    "        ),\n",
    "    param_space=config_param_space).fit()"
   ]
  },
  {
   "cell_type": "markdown",
   "id": "dab4bab6-a99a-4e12-947c-59c4aa57cf9d",
   "metadata": {},
   "source": [
    "### Restore a specific checkpoint"
   ]
  },
  {
   "cell_type": "code",
   "execution_count": null,
   "id": "1ca8b47b-4fe6-421f-bdd5-c965fdc27480",
   "metadata": {},
   "outputs": [],
   "source": [
    "import ray\n",
    "from ray import air, tune\n",
    "hcmTz = pytz.timezone(\"Asia/Ho_Chi_Minh\") \n",
    "date = datetime.datetime.now(hcmTz).strftime(\"%d-%m-%Y_%H-%M-%S\")\n",
    "ray_result_logdir = '/DATA/l5kit/ray_results/' + date\n",
    "\n",
    "train_envs = 4\n",
    "lr = 3e-3\n",
    "lr_start = 3e-4\n",
    "lr_end = 3e-5\n",
    "lr_time = int(4e6)\n",
    "\n",
    "config_param_space = {\n",
    "    \"env\": \"L5-CLE-V1\",\n",
    "    \"framework\": \"torch\",\n",
    "    \"num_gpus\": 1,\n",
    "    \"num_workers\": 63,\n",
    "    \"num_envs_per_worker\": train_envs,\n",
    "    \"model\": {\n",
    "        \"custom_model\": \"GN_CNN_torch_model\",\n",
    "        \"custom_model_config\": {'feature_dim':128},\n",
    "    },\n",
    "    \n",
    "    '_disable_preprocessor_api': True,\n",
    "     \"eager_tracing\": True,\n",
    "     \"restart_failed_sub_environments\": True,\n",
    "    \"lr\": lr,\n",
    "    'seed': 42,\n",
    "    \"lr_schedule\": [\n",
    "        [1e6, lr_start],\n",
    "        [2e6, lr_end],\n",
    "    ],\n",
    "    'train_batch_size': 8000,\n",
    "    'sgd_minibatch_size': 1024,\n",
    "    'num_sgd_iter': 16,\n",
    "    'seed': 42,\n",
    "    'batch_mode': 'truncate_episodes',\n",
    "    \"rollout_fragment_length\": 32,\n",
    "    'gamma': 0.8,    \n",
    "}\n",
    "\n",
    "result_grid = tune.Tuner(\n",
    "    \"PPO\",\n",
    "    run_config=air.RunConfig(\n",
    "        stop={\"episode_reward_mean\": 0, 'timesteps_total': int(6e6)},\n",
    "        local_dir=ray_result_logdir,\n",
    "        checkpoint_config=air.CheckpointConfig(num_to_keep=4, \n",
    "                                               checkpoint_frequency = 10, \n",
    "                                               checkpoint_score_attribute = 'episode_reward_mean'),\n",
    "        callbacks=[WandbLoggerCallback(project=\"l5kit2\", save_checkpoints=True),],\n",
    "        ),\n",
    "    param_space=config_param_space).fit()\n",
    "    "
   ]
  },
  {
   "cell_type": "code",
   "execution_count": null,
   "id": "7bdcd1c2-79d2-4f95-b50f-247b367e5491",
   "metadata": {},
   "outputs": [],
   "source": [
    "config_param_space['lr'] = 3e-5\n",
    "path_to_trained_agent_checkpoint = 'l5kit/ray_results/27-12-2022_16-24-37/PPO/PPO_L5-CLE-V1_fdd0f_00000_0_2022-12-27_11-45-42/checkpoint_000480'\n",
    "from ray.rllib.algorithms.ppo import PPO\n",
    "ray.tune.run(PPO, config=config_param_space, restore=path_to_trained_agent_checkpoint)"
   ]
  },
  {
   "cell_type": "code",
   "execution_count": null,
   "id": "97846803-c22d-4a73-b451-052962cd289b",
   "metadata": {
    "tags": []
   },
   "outputs": [],
   "source": [
    "import ray\n",
    "from ray import air, tune\n",
    "ray_result_logdir = '/DATA/l5kit/ray_results'\n",
    "config_param_space = {\n",
    "    \"env\": \"L5-CLE-V1\",\n",
    "    \"framework\": \"torch\",\n",
    "    \"num_gpus\": 1,\n",
    "    \"num_workers\": 63,\n",
    "    'train_batch_size': 4000,\n",
    "    'sgd_minibatch_size': 4096,\n",
    "    \"num_envs_per_worker\": 32,\n",
    "    'num_sgd_iter': 32,\n",
    "    'sgd_minibatch_size': 256,\n",
    "    # 'num_cpus_per_worker': 0,  # This avoids running out of resources in the notebook environment when this cell is re-executed\n",
    "    \"model\": {\n",
    "        \"custom_model\": \"GN_CNN_torch_model\",\n",
    "        \"custom_model_config\": {'feature_dim':128},\n",
    "    },\n",
    "    \n",
    "    '_disable_preprocessor_api': True,\n",
    "     \"eager_tracing\": True,\n",
    "     # \"log_level\": \"DEBUG\",\n",
    "     \"restart_failed_sub_environments\": True,\n",
    "    \"lr\": 0.0003,\n",
    "    \"gamma\": 0.8,\n",
    "    'seed': 42,\n",
    "}\n",
    "\n",
    "result_grid = tune.Tuner(\n",
    "    \"PPO\",\n",
    "    run_config=air.RunConfig(\n",
    "        stop={\"episode_reward_mean\": -30, 'timesteps_total': int(12e6)},\n",
    "        local_dir=ray_result_logdir,\n",
    "        checkpoint_config=air.CheckpointConfig(num_to_keep=4, checkpoint_frequency = 10, checkpoint_score_attribute = 'episode_reward_mean')\n",
    "        ),\n",
    "    param_space=config_param_space).fit()"
   ]
  },
  {
   "cell_type": "code",
   "execution_count": null,
   "id": "a019fc45",
   "metadata": {
    "colab": {
     "base_uri": "https://localhost:8080/",
     "height": 1000
    },
    "id": "RTK45EUeonWl",
    "outputId": "1a0ff185-7c8c-4cfb-8d1c-4dcb71cd7fb4",
    "tags": []
   },
   "outputs": [],
   "source": [
    "ray_result_logdir = '/DATA/l5kit/ray_results'\n",
    "\n",
    "tuner = tune.Tuner.restore(\n",
    "    path=ray_result_logdir + '/PPO',\n",
    ")\n",
    "result_grid = tuner.fit()"
   ]
  },
  {
   "cell_type": "code",
   "execution_count": null,
   "id": "d733b2f3-c09e-42d6-bd04-f6024d68c388",
   "metadata": {},
   "outputs": [],
   "source": [
    "result_grid\n",
    "\n",
    "# Get the result with the maximum test set `mean_accuracy`\n",
    "best_result = result_grid.get_best_result()\n",
    "best_result.checkpoint"
   ]
  },
  {
   "cell_type": "code",
   "execution_count": null,
   "id": "a2f7ddd6-4ee4-4208-93ce-bdb7f09a834c",
   "metadata": {},
   "outputs": [],
   "source": [
    "best_result.metrics"
   ]
  },
  {
   "cell_type": "code",
   "execution_count": null,
   "id": "eb8970f8-e53f-4872-8b2a-c6d4bc872887",
   "metadata": {},
   "outputs": [],
   "source": [
    "result_df = best_result.metrics_dataframe\n",
    "result_df[['num_agent_steps_sampled','episode_reward_mean'] ]"
   ]
  },
  {
   "cell_type": "code",
   "execution_count": null,
   "id": "5aba6040-0726-40b5-8717-dcc036d6e31b",
   "metadata": {},
   "outputs": [],
   "source": [
    "best_result.metrics_dataframe.plot(\"num_agent_steps_sampled\", \"episode_reward_mean\")\n"
   ]
  },
  {
   "cell_type": "code",
   "execution_count": null,
   "id": "e2e52385-0b84-4058-8079-8d4b29ccc54e",
   "metadata": {},
   "outputs": [],
   "source": [
    "for result in result_grid:\n",
    "    print(1)"
   ]
  },
  {
   "cell_type": "markdown",
   "id": "60c6b3ff-c0a7-4f4f-8308-9ca3869b7ebe",
   "metadata": {
    "tags": []
   },
   "source": [
    "### Separated policy"
   ]
  },
  {
   "cell_type": "code",
   "execution_count": null,
   "id": "86853fc6-44f8-4723-9e7b-0ddd6f546725",
   "metadata": {
    "tags": []
   },
   "outputs": [],
   "source": [
    "import ray\n",
    "from ray import air, tune\n",
    "train_envs = 4\n",
    "ray_result_logdir = '/DATA/l5kit/ray_results'\n",
    "lr = 3e-3\n",
    "lr_start = 3e-4\n",
    "lr_end = 3e-5\n",
    "lr_time = int(4e6)\n",
    "\n",
    "config_param_space = {\n",
    "    \"env\": \"L5-CLE-V1\",\n",
    "    \"framework\": \"torch\",\n",
    "    \"num_gpus\": 1,\n",
    "    \"num_workers\": 63,\n",
    "    \"num_envs_per_worker\": train_envs,\n",
    "    '_disable_preprocessor_api': True,\n",
    "    \"eager_tracing\": True,\n",
    "    \"restart_failed_sub_environments\": True,\n",
    "    \"lr\": lr_start,\n",
    "    # \"model\": {\n",
    "    #     \"custom_model\": \"GN_CNN_separated_torch_model\",\n",
    "    #     \"custom_model_config\": {'feature_dim':128},\n",
    "    # },\n",
    "    'model' : {\n",
    "            \"dim\": 84,\n",
    "            # \"conv_filters\" : [[64, [7,7], 3], [32, [11,11], 3], [32, [11,11], 3]],\n",
    "            \"conv_activation\": \"relu\",\n",
    "            \"post_fcnet_hiddens\": [256],\n",
    "            \"post_fcnet_activation\": \"relu\",\n",
    "            \"vf_share_layers\": False,   \n",
    "    },\n",
    "#\n",
    "    \"lr\": lr,\n",
    "    'seed': 42,\n",
    "    \"lr_schedule\": [\n",
    "        [1e6, lr_start],\n",
    "        [2e6, lr_end],\n",
    "    ],\n",
    "    'train_batch_size': 8000,\n",
    "    'sgd_minibatch_size': 256,\n",
    "    'num_sgd_iter': 16,\n",
    "    'seed': 42,\n",
    "    'batch_mode': 'truncate_episodes',\n",
    "    \"rollout_fragment_length\": 32,\n",
    "    'gamma': 0.8,\n",
    "}\n",
    "\n",
    "result_grid = tune.Tuner(\n",
    "    \"PPO\",\n",
    "    run_config=air.RunConfig(\n",
    "        stop={\"episode_reward_mean\": 0, 'timesteps_total': int(6e6)},\n",
    "        local_dir=ray_result_logdir,\n",
    "        checkpoint_config=air.CheckpointConfig(num_to_keep=4, checkpoint_frequency = 10, checkpoint_score_attribute = 'episode_reward_mean'),\n",
    "        callbacks=[WandbLoggerCallback(project=\"l5kit2\", save_checkpoints=True),],\n",
    "        ),\n",
    "    param_space=config_param_space).fit()"
   ]
  },
  {
   "cell_type": "code",
   "execution_count": null,
   "id": "311054e4-7a19-400f-aa1c-332dd22b964d",
   "metadata": {},
   "outputs": [],
   "source": [
    "ray_result_logdir = '/DATA/l5kit/ray_results'\n",
    "\n",
    "tuner = tune.Tuner.restore(\n",
    "    path=ray_result_logdir + '/PPO',\n",
    ")\n",
    "tuner.fit()"
   ]
  },
  {
   "cell_type": "markdown",
   "id": "70289aed",
   "metadata": {
    "id": "4fipqZymhM1l"
   },
   "source": [
    "NOTE: Experiment has been interrupted, but the most recent state was saved. You can continue running this experiment by passing `resume=True` to `tune.run()`\n",
    "\n",
    "2022-12-04 05:50:38,570\tINFO experiment_analysis.py:795 -- No `self.trials`. Drawing logdirs from checkpoint file. This may result in some information that is out of sync, as checkpointing is periodic.\n",
    "\n",
    "2022-12-04 05:50:39,684\tINFO trial_runner.py:601 -- A local experiment checkpoint was found and will be used to restore the previous experiment state.\n",
    "2022-12-04 05:50:39,687\tINFO trial_runner.py:738 -- Using following checkpoint to resume: /content/drive/MyDrive/Colab Notebooks/l5kit/ray_results/PPO/experiment_state-2022-12-04_05-28-55.json\n",
    "\n",
    "2022-12-04 05:50:39,710\tWARNING trial_runner.py:743 -- Attempting to resume experiment from /content/drive/MyDrive/Colab Notebooks/l5kit/ray_results/PPO. This will ignore any new changes to the specification.\n",
    "\n",
    "2022-12-04 05:50:40,703\tINFO tune.py:668 -- TrialRunner resumed, ignoring new add_experiment but updating trial resources."
   ]
  },
  {
   "cell_type": "markdown",
   "id": "e0694c85",
   "metadata": {
    "id": "575327a2"
   },
   "source": [
    "**Voila!** We have a trained PPO policy! Train for larger number of steps for better accuracy. Typical RL algorithms require training atleast 1M steps for good convergence. You can visualize the quantitiative evaluation using tensorboard."
   ]
  },
  {
   "cell_type": "markdown",
   "id": "710de3f0",
   "metadata": {
    "id": "d24f956c",
    "tags": []
   },
   "source": [
    "## Visualize the episode from the environment\n",
    "\n",
    "We can easily visualize the outputs obtained by rolling out episodes in the L5Kit using the Bokeh visualizer."
   ]
  },
  {
   "cell_type": "code",
   "execution_count": 7,
   "id": "317496be-42cd-4860-af9e-b108b84f9427",
   "metadata": {},
   "outputs": [],
   "source": [
    "train_envs = 4\n",
    "lr = 3e-3\n",
    "lr_start = 3e-4\n",
    "lr_end = 3e-5\n",
    "lr_time = int(4e6)\n",
    "\n",
    "config_param_space = {\n",
    "    \"env\": \"L5-CLE-V1\",\n",
    "    \"framework\": \"torch\",\n",
    "    \"num_gpus\": 1,\n",
    "    # \"num_workers\": 63,\n",
    "    \"num_envs_per_worker\": train_envs,\n",
    "    \"model\": {\n",
    "        \"custom_model\": \"GN_CNN_torch_model\",\n",
    "        \"custom_model_config\": {'feature_dim':128},\n",
    "    },\n",
    "    \n",
    "    '_disable_preprocessor_api': True,\n",
    "     \"eager_tracing\": True,\n",
    "     \"restart_failed_sub_environments\": True,\n",
    "    \"lr\": lr,\n",
    "    'seed': 42,\n",
    "    \"lr_schedule\": [\n",
    "        [1e6, lr_start],\n",
    "        [2e6, lr_end],\n",
    "    ],\n",
    "    'train_batch_size': 8000,\n",
    "    'sgd_minibatch_size': 1024,\n",
    "    # 'num_sgd_iter': 16,\n",
    "    'seed': 42,\n",
    "    'batch_mode': 'truncate_episodes',\n",
    "    \"rollout_fragment_length\": 32,\n",
    "    'gamma': 0.8,    \n",
    "}\n"
   ]
  },
  {
   "cell_type": "code",
   "execution_count": 8,
   "id": "b8909fd0-bfec-4e53-b53d-e2507ff3ac9c",
   "metadata": {},
   "outputs": [],
   "source": [
    "from ray import tune\n",
    "rollout_sim_cfg = SimulationConfigGym()\n",
    "rollout_sim_cfg.num_simulation_steps = None\n",
    "\n",
    "env_kwargs = {'env_config_path': env_config_path, \n",
    "              'use_kinematic': True, \n",
    "              'sim_cfg': rollout_sim_cfg,  \n",
    "              'train': False, \n",
    "              'return_info': True}\n",
    "\n",
    "rollout_env = L5EnvWrapper(env = L5Env(**env_kwargs), \\\n",
    "                           raster_size= cfg['raster_params']['raster_size'][0], \\\n",
    "                           n_channels = 7,)\n",
    "tune.register_env(\"L5-CLE-V2\", \n",
    "                  lambda config: L5EnvWrapper(env = L5Env(**env_kwargs), \\\n",
    "                                              raster_size= cfg['raster_params']['raster_size'][0], \\\n",
    "                                              n_channels = 7))"
   ]
  },
  {
   "cell_type": "code",
   "execution_count": 26,
   "id": "e7de96cf-b307-4ab1-b72f-f40aec2c0efa",
   "metadata": {},
   "outputs": [
    {
     "name": "stderr",
     "output_type": "stream",
     "text": [
      "2023-01-11 03:52:52,652\tWARNING deprecation.py:47 -- DeprecationWarning: `algo = Algorithm(env='L5-CLE-V2', ...)` has been deprecated. Use `algo = AlgorithmConfig().environment('L5-CLE-V2').build()` instead. This will raise an error in the future!\n",
      "\u001b[2m\u001b[36m(RolloutWorker pid=4156390)\u001b[0m /usr/local/lib/python3.8/dist-packages/l5kit/data/zarr_dataset.py:213: RuntimeWarning: zarr dataset path should end with .zarr (for now). Open will fail for this dataset!\n",
      "\u001b[2m\u001b[36m(RolloutWorker pid=4156390)\u001b[0m   dataset = ChunkedDataset(\"\")\n",
      "\u001b[2m\u001b[36m(RolloutWorker pid=4156390)\u001b[0m /usr/local/lib/python3.8/dist-packages/l5kit/simulation/utils.py:107: RuntimeWarning: zarr dataset path should end with .zarr (for now). Open will fail for this dataset!\n",
      "\u001b[2m\u001b[36m(RolloutWorker pid=4156390)\u001b[0m   new_dataset = ChunkedDataset(\"\")\n",
      "\u001b[2m\u001b[36m(RolloutWorker pid=4156389)\u001b[0m 2023-01-11 03:53:00,462\tWARNING env.py:147 -- Your env doesn't have a .spec.max_episode_steps attribute. This is fine if you have set 'horizon' in your config dictionary, or `soft_horizon`. However, if you haven't, 'horizon' will default to infinity, and your environment will not be reset.\n",
      "\u001b[2m\u001b[36m(RolloutWorker pid=4156389)\u001b[0m /usr/local/lib/python3.8/dist-packages/l5kit/data/zarr_dataset.py:213: RuntimeWarning: zarr dataset path should end with .zarr (for now). Open will fail for this dataset!\n",
      "\u001b[2m\u001b[36m(RolloutWorker pid=4156389)\u001b[0m   dataset = ChunkedDataset(\"\")\n",
      "\u001b[2m\u001b[36m(RolloutWorker pid=4156389)\u001b[0m /usr/local/lib/python3.8/dist-packages/l5kit/simulation/utils.py:107: RuntimeWarning: zarr dataset path should end with .zarr (for now). Open will fail for this dataset!\n",
      "\u001b[2m\u001b[36m(RolloutWorker pid=4156389)\u001b[0m   new_dataset = ChunkedDataset(\"\")\n",
      "\u001b[2m\u001b[36m(RolloutWorker pid=4156390)\u001b[0m 2023-01-11 03:53:00,574\tWARNING catalog.py:637 -- Custom ModelV2 should accept all custom options as **kwargs, instead of expecting them in config['custom_model_config']!\n",
      "\u001b[2m\u001b[36m(RolloutWorker pid=4156389)\u001b[0m 2023-01-11 03:53:00,799\tWARNING catalog.py:637 -- Custom ModelV2 should accept all custom options as **kwargs, instead of expecting them in config['custom_model_config']!\n",
      "2023-01-11 03:53:16,494\tWARNING catalog.py:637 -- Custom ModelV2 should accept all custom options as **kwargs, instead of expecting them in config['custom_model_config']!\n",
      "2023-01-11 03:53:16,535\tINFO trainable.py:172 -- Trainable.setup took 23.877 seconds. If your trainable is slow to initialize, consider setting reuse_actors=True to reduce actor creation overheads.\n",
      "2023-01-11 03:53:16,536\tWARNING util.py:66 -- Install gputil for GPU system monitoring.\n",
      "2023-01-11 03:53:16,576\tINFO trainable.py:790 -- Restored on 172.17.0.2 from checkpoint: l5kit/ray_results/31-12-2022_23-45-14/PPO/PPO_L5-CLE-V1_802de_00000_0_2022-12-31_16-45-15/checkpoint_000400\n",
      "2023-01-11 03:53:16,577\tINFO trainable.py:799 -- Current state after restoring: {'_iteration': 400, '_timesteps_total': None, '_time_total': 11514.728887557983, '_episodes_total': 103824}\n"
     ]
    }
   ],
   "source": [
    "from ray.rllib.algorithms.ppo import PPO\n",
    "checkpoint_path = 'l5kit/ray_results/31-12-2022_23-45-14/PPO/PPO_L5-CLE-V1_802de_00000_0_2022-12-31_16-45-15/checkpoint_000400'\n",
    "algo = PPO(config=config_param_space, env='L5-CLE-V2')\n",
    "algo.restore(checkpoint_path)"
   ]
  },
  {
   "cell_type": "code",
   "execution_count": 27,
   "id": "4702418d-88bb-48ef-8052-9ffd53d4d812",
   "metadata": {},
   "outputs": [],
   "source": [
    "rewards = []\n",
    "def rollout_episode(model, env, idx = 0):\n",
    "    \"\"\"Rollout a particular scene index and return the simulation output.\n",
    "\n",
    "    :param model: the RL policy\n",
    "    :param env: the gym environment\n",
    "    :param idx: the scene index to be rolled out\n",
    "    :return: the episode output of the rolled out scene\n",
    "    \"\"\"\n",
    "\n",
    "    # Set the reset_scene_id to 'idx'\n",
    "    env.set_reset_id(idx)\n",
    "    \n",
    "    # Rollout step-by-step\n",
    "    obs = env.reset()\n",
    "    done = False\n",
    "    total_reward = 0\n",
    "    while True:\n",
    "        action = model.compute_single_action(obs, deterministic=True)\n",
    "        obs, reward, done, info = env.step(action)\n",
    "        total_reward += reward\n",
    "        if done:\n",
    "            rewards.append(total_reward)\n",
    "            break\n",
    "\n",
    "    # The episode outputs are present in the key \"sim_outs\"\n",
    "    sim_out = info[\"sim_outs\"][0]\n",
    "    return sim_out\n",
    "\n",
    "# Rollout one episode\n",
    "# sim_out = rollout_episode(model, rollout_env)\n",
    "# Rollout 5 episodes\n",
    "sim_outs =[]\n",
    "for i in range(100):\n",
    "    sim_outs.append(rollout_episode(algo, rollout_env, i))"
   ]
  },
  {
   "cell_type": "code",
   "execution_count": 23,
   "id": "94c119e3-e2f1-40f4-8c5f-1fb9e4faab7c",
   "metadata": {},
   "outputs": [
    {
     "name": "stdout",
     "output_type": "stream",
     "text": [
      "[-1700.6033111233264, -2718.2281629676, -1925.2783587416634, -1416.929284658283, -2610.9406875574496]\n"
     ]
    }
   ],
   "source": [
    "print(rewards)"
   ]
  },
  {
   "cell_type": "code",
   "execution_count": null,
   "id": "4ad440e5",
   "metadata": {
    "id": "7e383cff"
   },
   "outputs": [],
   "source": [
    "# might change with different rasterizer\n",
    "map_API = rollout_env.dataset.rasterizer.sem_rast.mapAPI\n",
    "\n",
    "def visualize_outputs(sim_outs, map_API):\n",
    "    for sim_out in sim_outs: # for each scene\n",
    "        vis_in = episode_out_to_visualizer_scene_gym_cle(sim_out, map_API)\n",
    "        show(visualize(sim_out.scene_id, vis_in))\n",
    "\n",
    "output_notebook()\n",
    "visualize_outputs(sim_outs, map_API)"
   ]
  },
  {
   "cell_type": "markdown",
   "id": "30b57b2e",
   "metadata": {
    "id": "DjpS1pIZJ0B-",
    "tags": []
   },
   "source": [
    "## Calculate the performance metrics from the episode outputs\n",
    "\n",
    "We can also calculate the various quantitative metrics on the rolled out episode output. "
   ]
  },
  {
   "cell_type": "code",
   "execution_count": 28,
   "id": "8b56ed3d",
   "metadata": {
    "colab": {
     "base_uri": "https://localhost:8080/"
    },
    "id": "6M1kUv8_J3X7",
    "outputId": "5eba9295-94de-404d-9469-329856bd9384"
   },
   "outputs": [
    {
     "name": "stdout",
     "output_type": "stream",
     "text": [
      "+----------+-----------+----------+\n",
      "| scene_id |    FDE    |   ADE    |\n",
      "+----------+-----------+----------+\n",
      "|    0     |  123.2568 | 52.4588  |\n",
      "|    1     |  116.6584 | 22.8952  |\n",
      "|    2     |  52.0705  | 30.8244  |\n",
      "|    3     |  132.0699 | 44.7191  |\n",
      "|    4     |  144.1401 | 48.6937  |\n",
      "|    5     |  64.7322  | 30.8698  |\n",
      "|    6     |  230.0992 | 113.1657 |\n",
      "|    7     |  22.4712  | 10.1924  |\n",
      "|    8     |  477.5516 | 152.0144 |\n",
      "|    9     |  241.9794 | 89.2365  |\n",
      "|    10    |  144.5365 | 55.7827  |\n",
      "|    11    |  73.0268  | 34.0385  |\n",
      "|    12    |  18.6581  |  11.226  |\n",
      "|    13    |  52.8625  | 19.2529  |\n",
      "|    14    | 1748.6797 | 464.7148 |\n",
      "|    15    |   47.387  | 31.2623  |\n",
      "|    16    |   2.6316  |  5.2471  |\n",
      "|    17    |  113.6218 | 37.0894  |\n",
      "|    18    |  313.8562 | 136.6049 |\n",
      "|    19    |   5.5315  |  4.0874  |\n",
      "|    20    |  35.7629  |  7.0497  |\n",
      "|    21    |  17.9055  |  9.1302  |\n",
      "|    22    |  51.5885  | 19.6745  |\n",
      "|    23    |  26.9764  |  5.9624  |\n",
      "|    24    |  495.1066 | 170.2134 |\n",
      "|    25    |  68.2987  | 71.2641  |\n",
      "|    26    |  513.5831 | 126.6553 |\n",
      "|    27    |   50.81   | 10.7263  |\n",
      "|    28    |  191.3569 | 77.2046  |\n",
      "|    29    |  285.8062 | 77.0955  |\n",
      "|    30    |  203.1127 | 72.6262  |\n",
      "|    31    |  46.1059  | 12.7103  |\n",
      "|    32    |  61.7779  | 22.7153  |\n",
      "|    33    |  265.6082 | 106.0139 |\n",
      "|    34    |  229.9275 | 69.8226  |\n",
      "|    35    |  26.9462  | 12.1647  |\n",
      "|    36    |  45.7128  | 18.5801  |\n",
      "|    37    |  22.7263  | 14.0194  |\n",
      "|    38    |   6.7869  |  8.7787  |\n",
      "|    39    |  212.7291 | 72.0524  |\n",
      "|    40    |  229.9427 | 96.8109  |\n",
      "|    41    |  130.2316 | 53.5754  |\n",
      "|    42    |  126.7943 | 44.5512  |\n",
      "|    43    |  76.0048  | 18.9529  |\n",
      "|    44    |  22.6078  |  18.569  |\n",
      "|    45    |  244.7374 | 144.8769 |\n",
      "|    46    |  36.0521  | 16.9794  |\n",
      "|    47    |  78.5821  | 17.1083  |\n",
      "|    48    |   8.3104  | 22.9406  |\n",
      "|    49    |   80.094  | 23.3664  |\n",
      "|    50    |  86.8394  | 34.4507  |\n",
      "|    51    |  117.5584 |  72.517  |\n",
      "|    52    |  52.5508  |  9.8002  |\n",
      "|    53    |  137.9901 | 35.8737  |\n",
      "|    54    |  120.8378 |  36.81   |\n",
      "|    55    |  70.3801  | 40.3995  |\n",
      "|    56    |   9.4397  |  5.9466  |\n",
      "|    57    |  167.212  | 66.0485  |\n",
      "|    58    |  33.4212  |  6.6487  |\n",
      "|    59    |  10.2135  | 21.0946  |\n",
      "|    60    |  30.5686  | 40.9854  |\n",
      "|    61    |  36.9171  |   7.61   |\n",
      "|    62    |  67.7826  | 38.8164  |\n",
      "|    63    |  241.1613 |  76.814  |\n",
      "|    64    |  44.7622  | 21.9267  |\n",
      "|    65    |  83.7142  |  37.003  |\n",
      "|    66    |  66.8156  | 23.6635  |\n",
      "|    67    |   160.48  | 63.4814  |\n",
      "|    68    |  361.3031 | 75.4556  |\n",
      "|    69    |  178.3958 |  82.412  |\n",
      "|    70    |   3.4661  |  1.5292  |\n",
      "|    71    |  13.3765  |   8.61   |\n",
      "|    72    |  14.6414  |  2.8853  |\n",
      "|    73    |  75.7119  |  27.707  |\n",
      "|    74    |  151.9044 | 41.4314  |\n",
      "|    75    |  108.7701 | 60.8246  |\n",
      "|    76    |  66.9036  | 42.9832  |\n",
      "|    77    |  215.3969 | 79.0206  |\n",
      "|    78    |  47.7389  | 11.1954  |\n",
      "|    79    |  52.7486  | 39.7533  |\n",
      "|    80    |  66.9473  | 27.1504  |\n",
      "|    81    |  72.6963  | 20.8168  |\n",
      "|    82    |  40.8766  | 53.0848  |\n",
      "|    83    |  57.5366  | 20.9031  |\n",
      "|    84    |  427.3865 | 151.7712 |\n",
      "|    85    |  114.806  | 36.6663  |\n",
      "|    86    |  756.1423 | 154.5149 |\n",
      "|    87    |   0.7196  |  2.0307  |\n",
      "|    88    |  86.4463  | 32.0395  |\n",
      "|    89    |  130.2016 | 45.5774  |\n",
      "|    90    |  62.8584  | 30.3995  |\n",
      "|    91    |   85.538  | 29.8946  |\n",
      "|    92    |  173.3108 | 25.3422  |\n",
      "|    93    |  676.0114 | 252.6765 |\n",
      "|    94    |  47.6281  | 30.5021  |\n",
      "|    95    |  12.0041  | 43.1614  |\n",
      "|    96    |  124.0445 | 48.0517  |\n",
      "|    97    | 1764.6522 | 847.6781 |\n",
      "|    98    |  114.3206 | 40.0548  |\n",
      "|    99    |  20.6718  | 17.9634  |\n",
      "| Overall  |  156.8161 | 58.6054  |\n",
      "+----------+-----------+----------+\n"
     ]
    }
   ],
   "source": [
    "def quantify_outputs(sim_outs, metric_set=None):\n",
    "    metric_set = metric_set if metric_set is not None else L2DisplacementYawMetricSet()\n",
    "\n",
    "    metric_set.evaluate(sim_outs)\n",
    "    scene_results = metric_set.evaluator.scene_metric_results\n",
    "    fields = [\"scene_id\", \"FDE\", \"ADE\"]\n",
    "    table = PrettyTable(field_names=fields)\n",
    "    tot_fde = 0.0\n",
    "    tot_ade = 0.0\n",
    "    for scene_id in scene_results:\n",
    "        scene_metrics = scene_results[scene_id]\n",
    "        ade_error = scene_metrics[\"displacement_error_l2\"][1:].mean()\n",
    "        fde_error = scene_metrics['displacement_error_l2'][-1]\n",
    "        table.add_row([scene_id, round(fde_error.item(), 4), round(ade_error.item(), 4)])\n",
    "        tot_fde += fde_error.item()\n",
    "        tot_ade += ade_error.item()\n",
    "\n",
    "    ave_fde = tot_fde / len(scene_results)\n",
    "    ave_ade = tot_ade / len(scene_results)\n",
    "    table.add_row([\"Overall\", round(ave_fde, 4), round(ave_ade, 4)])\n",
    "    print(table)\n",
    "\n",
    "\n",
    "quantify_outputs(sim_outs)"
   ]
  },
  {
   "cell_type": "code",
   "execution_count": 12,
   "id": "c8c0b59d",
   "metadata": {
    "colab": {
     "base_uri": "https://localhost:8080/"
    },
    "id": "ovwnSl6RJx7t",
    "outputId": "972861d0-0929-43ea-ece0-c12cb9698ebd"
   },
   "outputs": [
    {
     "name": "stderr",
     "output_type": "stream",
     "text": [
      "/usr/local/lib/python3.8/dist-packages/shapely/set_operations.py:133: RuntimeWarning: invalid value encountered in intersection\n",
      "  return lib.intersection(a, b, **kwargs)\n"
     ]
    },
    {
     "name": "stdout",
     "output_type": "stream",
     "text": [
      "+----------+-----------+----------+----------+------+-----+------+----------+\n",
      "| scene_id |    FDE    |   ADE    |   DRT    |  CF  |  CR |  CS  |   PEGO   |\n",
      "+----------+-----------+----------+----------+------+-----+------+----------+\n",
      "|    0     |  182.7081 | 70.5777  |  0.4223  | 0.0  | 0.0 | 0.0  | -13.3355 |\n",
      "|    1     |  22.3221  |  8.4134  | 18.1887  | 0.0  | 0.0 | 0.0  | 20.5099  |\n",
      "|    2     |  126.4999 | 41.8324  | 81.7555  | 0.0  | 0.0 | 0.0  |  8.3309  |\n",
      "|    3     |  17.8828  | 25.7624  | 42.8494  | 0.0  | 0.0 | 0.0  |  5.565   |\n",
      "|    4     |  57.8033  | 36.3409  | 66.1168  | 0.0  | 0.0 | 0.0  |  2.9566  |\n",
      "|    5     |  102.8478 | 48.3509  | 84.7749  | 0.0  | 0.0 | 0.0  |  9.1701  |\n",
      "|    6     |  299.2674 | 136.3642 | 52.9568  | 0.0  | 0.0 | 0.0  | -9.7238  |\n",
      "|    7     |  43.3553  | 18.9104  |  0.5098  | 0.0  | 0.0 | 0.0  |  0.0387  |\n",
      "|    8     |  411.7862 | 114.802  | 52.6135  | 0.0  | 0.0 | 0.0  |  8.8057  |\n",
      "|    9     |  200.6255 | 76.5964  |  0.0872  | 0.0  | 0.0 | 0.0  | -3.1539  |\n",
      "|    10    |  105.9442 | 43.9399  |  0.1003  | 0.0  | 0.0 | 0.0  | -1.9548  |\n",
      "|    11    |  42.8086  |  18.738  |  0.2211  | 0.0  | 0.0 | 0.0  |  1.3604  |\n",
      "|    12    |  31.9167  | 16.7086  |  22.629  | 0.0  | 0.0 | 0.0  |  2.683   |\n",
      "|    13    |  53.1212  | 18.9993  |  6.8252  | 0.0  | 0.0 | 0.0  | -4.5412  |\n",
      "|    14    |  804.2053 | 429.6913 | 763.5421 | 0.0  | 0.0 | 0.0  |  7.7445  |\n",
      "|    15    |  36.5208  | 27.6566  | 14.4613  | 0.0  | 0.0 | 0.0  | -5.1223  |\n",
      "|    16    |  25.1689  |  9.7655  |  0.5451  | 1.0  | 0.0 | 0.0  | -1.0478  |\n",
      "|    17    |  81.3935  | 29.4045  | 49.6308  | 0.0  | 0.0 | 0.0  |  6.3263  |\n",
      "|    18    |  308.005  | 130.8119 | 39.4243  | 0.0  | 0.0 | 0.0  | -12.1923 |\n",
      "|    19    |   17.181  |  5.2423  |  0.0222  | 1.0  | 0.0 | 0.0  | -2.1874  |\n",
      "|    20    |   2.5864  |  6.6863  |  0.3113  | 0.0  | 0.0 | 0.0  |  -1.404  |\n",
      "|    21    |  72.4755  | 29.7531  |  0.2663  | 0.0  | 0.0 | 0.0  | -4.4691  |\n",
      "|    22    |  39.3244  | 11.7111  |  1.9481  | 0.0  | 0.0 | 0.0  | -0.5146  |\n",
      "|    23    |  18.1445  |  11.783  |  0.1937  | 0.0  | 0.0 | 0.0  |  2.6048  |\n",
      "|    24    |  197.302  | 49.9267  | 112.8977 | 0.0  | 0.0 | 0.0  | 21.4473  |\n",
      "|    25    |  339.3303 | 99.7221  | 64.8824  | 0.0  | 0.0 | 0.0  |  57.037  |\n",
      "|    26    |   15.744  |  6.4895  |  2.328   | 0.0  | 0.0 | 0.0  |  3.5705  |\n",
      "|    27    |   38.761  | 18.2566  |  39.998  | 0.0  | 0.0 | 0.0  |  5.8425  |\n",
      "|    28    |  229.3883 | 79.1384  | 30.7694  | 0.0  | 0.0 | 0.0  | 19.1559  |\n",
      "|    29    |  118.4801 | 32.3418  | 70.6139  | 0.0  | 0.0 | 0.0  | 10.0722  |\n",
      "|    30    |  219.6954 | 99.3903  | 42.0761  | 0.0  | 0.0 | 0.0  | -4.6485  |\n",
      "|    31    |   83.062  | 22.4545  | 39.6399  | 0.0  | 0.0 | 0.0  |  9.3423  |\n",
      "|    32    |  43.8552  | 13.7867  | 30.1859  | 0.0  | 0.0 | 0.0  |  7.2298  |\n",
      "|    33    |  122.8165 | 50.0627  | 90.3297  | 0.0  | 0.0 | 0.0  |  6.9819  |\n",
      "|    34    |  214.963  | 59.8389  |  10.607  | 0.0  | 0.0 | 0.0  | -10.2453 |\n",
      "|    35    |  39.2047  | 18.0293  |  0.6973  | 0.0  | 0.0 | 0.0  | -2.4726  |\n",
      "|    36    |   35.368  | 17.9802  |  0.6055  | 0.0  | 0.0 | 0.0  |  0.2473  |\n",
      "|    37    |   1.7843  |  2.0063  |  1.0814  | 0.0  | 0.0 | 0.0  |  0.8309  |\n",
      "|    38    |   3.3224  | 12.6023  |  0.5271  | 0.0  | 0.0 | 0.0  |  1.9176  |\n",
      "|    39    |  220.9494 |  76.95   | 141.9259 | 0.0  | 0.0 | 0.0  | 11.5928  |\n",
      "|    40    |  240.7352 | 94.5447  | 36.4519  | 0.0  | 0.0 | 0.0  | -5.0328  |\n",
      "|    41    |  140.5208 | 60.2044  |  1.6722  | 0.0  | 0.0 | 0.0  | -4.4349  |\n",
      "|    42    |  119.0888 | 41.7096  |  0.2977  | 0.0  | 0.0 | 0.0  | -5.5245  |\n",
      "|    43    |  97.7217  | 35.1837  | 50.0001  | 0.0  | 0.0 | 0.0  | -6.9717  |\n",
      "|    44    |  100.1378 |  48.85   |  0.6121  | 0.0  | 0.0 | 0.0  | -4.0168  |\n",
      "|    45    |  117.2466 | 55.6534  |  2.7752  | 0.0  | 0.0 | 0.0  | -3.0803  |\n",
      "|    46    |  31.9137  | 10.2378  |  0.5337  | 0.0  | 0.0 | 0.0  |  3.1463  |\n",
      "|    47    |  112.2731 | 17.3334  |  2.3437  | 0.0  | 0.0 | 0.0  |  8.0468  |\n",
      "|    48    |  37.4948  | 20.2412  |  0.5422  | 0.0  | 0.0 | 0.0  | -9.3982  |\n",
      "|    49    |  55.4017  | 17.9539  |  0.4625  | 0.0  | 0.0 | 0.0  | -5.0583  |\n",
      "|    50    |   97.175  | 31.9204  |  0.4608  | 0.0  | 0.0 | 0.0  | -5.6546  |\n",
      "|    51    |  56.7859  | 26.9034  |  0.4333  | 0.0  | 0.0 | 0.0  | -1.7743  |\n",
      "|    52    |  199.3361 | 28.1447  | 48.9151  | 0.0  | 0.0 | 0.0  | 36.5175  |\n",
      "|    53    |  22.7155  | 28.0543  | 36.2408  | 0.0  | 0.0 | 0.0  |  2.5084  |\n",
      "|    54    |   2.6072  | 18.1239  | 14.1528  | 0.0  | 0.0 | 0.0  |  3.6619  |\n",
      "|    55    |  698.2861 | 169.8319 | 314.0636 | 0.0  | 0.0 | 0.0  | 68.3967  |\n",
      "|    56    |  10.8062  |  3.5049  |  0.2945  | 0.0  | 0.0 | 0.0  | -3.3141  |\n",
      "|    57    |  136.7167 | 28.2729  | 13.1934  | 0.0  | 0.0 | 0.0  |  9.9744  |\n",
      "|    58    |  48.9912  | 11.5037  |  0.1504  | 0.0  | 0.0 | 0.0  | -6.0724  |\n",
      "|    59    |  33.0155  | 23.6599  | 13.9343  | 0.0  | 0.0 | 0.0  | -4.3378  |\n",
      "|    60    |  18.7914  | 22.2519  | 27.8175  | 0.0  | 0.0 | 0.0  | 30.5331  |\n",
      "|    61    |  30.4546  |  7.5255  |  4.8382  | 0.0  | 0.0 | 1.0  | -5.3075  |\n",
      "|    62    |  200.4551 |  35.583  | 34.4541  | 0.0  | 0.0 | 0.0  | 18.5662  |\n",
      "|    63    |  260.6734 | 75.9134  | 13.0053  | 0.0  | 0.0 | 0.0  | -6.7126  |\n",
      "|    64    |  18.1648  |  6.5594  |  0.3123  | 0.0  | 0.0 | 0.0  |  0.0887  |\n",
      "|    65    |   14.248  | 10.8536  |  0.4689  | 0.0  | 0.0 | 0.0  | -0.1236  |\n",
      "|    66    |  75.1403  | 37.6118  |  2.291   | 0.0  | 0.0 | 0.0  | -3.1099  |\n",
      "|    67    |  129.5187 | 47.4525  | 90.8891  | 0.0  | 0.0 | 0.0  |  7.9025  |\n",
      "|    68    |  265.2474 | 74.7108  | 150.9249 | 0.0  | 0.0 | 0.0  | 59.3816  |\n",
      "|    69    |  272.1838 | 106.9748 | 223.5963 | 0.0  | 0.0 | 0.0  | -4.1392  |\n",
      "|    70    |   9.0217  |  3.6417  |  0.3717  | 0.0  | 0.0 | 0.0  |  1.071   |\n",
      "|    71    |  39.1181  | 19.2121  |  0.162   | 0.0  | 0.0 | 0.0  |  -0.614  |\n",
      "|    72    |  24.8381  |  7.7472  |  0.3371  | 0.0  | 0.0 | 1.0  | -3.5769  |\n",
      "|    73    |  42.7322  |  7.646   |  0.3889  | 0.0  | 0.0 | 0.0  |  -5.968  |\n",
      "|    74    |  271.2928 | 86.8983  | 163.0693 | 0.0  | 0.0 | 0.0  | 15.2301  |\n",
      "|    75    |  39.4833  | 38.9584  |  3.0385  | 0.0  | 0.0 | 1.0  |  4.4093  |\n",
      "|    76    |  42.2339  | 32.5707  |  0.341   | 0.0  | 0.0 | 0.0  |  2.0248  |\n",
      "|    77    |  403.4351 | 110.2645 | 98.6167  | 0.0  | 0.0 | 0.0  |  6.7624  |\n",
      "|    78    |  13.3857  |  8.1513  |  0.5988  | 0.0  | 0.0 | 0.0  |  0.4741  |\n",
      "|    79    |  213.076  | 49.8539  | 85.9168  | 0.0  | 0.0 | 0.0  | 25.6519  |\n",
      "|    80    |  116.2169 |  31.982  |  2.6112  | 0.0  | 0.0 | 0.0  | 15.8085  |\n",
      "|    81    |  64.1527  |  19.575  |  0.1391  | 0.0  | 0.0 | 0.0  | -5.9763  |\n",
      "|    82    |  185.865  | 48.8068  | 16.1093  | 0.0  | 0.0 | 0.0  |  1.8553  |\n",
      "|    83    |  45.6969  | 19.3032  |  0.3629  | 0.0  | 0.0 | 0.0  | -3.6395  |\n",
      "|    84    |  40.2405  | 26.3582  |  2.866   | 0.0  | 0.0 | 0.0  | -2.9324  |\n",
      "|    85    |  78.9152  | 27.7843  |  27.142  | 0.0  | 0.0 | 0.0  |  9.333   |\n",
      "|    86    |  60.1974  | 25.8083  | 48.1186  | 0.0  | 0.0 | 0.0  |  3.1824  |\n",
      "|    87    |  10.2435  |  2.6447  |  3.2554  | 1.0  | 0.0 | 0.0  |  1.7548  |\n",
      "|    88    |  89.9198  | 31.1393  | 61.9485  | 0.0  | 0.0 | 0.0  |  3.5619  |\n",
      "|    89    |  134.6437 | 43.7463  | 36.7014  | 0.0  | 0.0 | 0.0  | -4.7589  |\n",
      "|    90    |  48.5424  | 19.6421  |  4.6068  | 0.0  | 0.0 | 0.0  |  0.4507  |\n",
      "|    91    |  57.6306  | 21.5534  |  0.0895  | 0.0  | 0.0 | 0.0  |  4.3447  |\n",
      "|    92    |  28.6926  |  9.6932  |  3.6613  | 1.0  | 0.0 | 0.0  | 14.4125  |\n",
      "|    93    | 1111.7988 | 480.5754 | 757.8407 | 0.0  | 0.0 | 0.0  | 64.2272  |\n",
      "|    94    |  51.7053  | 34.8751  |  0.1309  | 0.0  | 0.0 | 0.0  |  0.1087  |\n",
      "|    95    |  88.0461  | 53.6814  |  7.197   | 0.0  | 0.0 | 0.0  |  2.0551  |\n",
      "|    96    |  129.571  | 27.6941  | 18.0451  | 0.0  | 0.0 | 0.0  | 24.0528  |\n",
      "|    97    |  222.8691 | 75.4493  |  94.345  | 0.0  | 0.0 | 0.0  | 42.4876  |\n",
      "|    98    |  106.5378 | 24.3264  |  0.8492  | 0.0  | 0.0 | 0.0  | -10.4111 |\n",
      "|    99    |  42.3168  |  9.2781  |  2.9958  | 0.0  | 0.0 | 0.0  |  7.7658  |\n",
      "| Overall  |  124.8419 | 46.2395  | 45.0755  | 0.04 | 0.0 | 0.03 |  5.3216  |\n",
      "+----------+-----------+----------+----------+------+-----+------+----------+\n"
     ]
    }
   ],
   "source": [
    "def quantify_outputs(sim_outs, metric_set=None):\n",
    "    metric_set = metric_set if metric_set is not None else CLEMetricSet()\n",
    "\n",
    "    metric_set.evaluate(sim_outs)\n",
    "    scene_results = metric_set.evaluator.scene_metric_results\n",
    "    fields = [\"scene_id\", \"FDE\", \"ADE\", \"DRT\", \"CF\", \"CR\", \"CS\", \"PEGO\"]\n",
    "    table = PrettyTable(field_names=fields)\n",
    "    tot_fde = 0.0\n",
    "    tot_ade = 0.0\n",
    "    tot_drt = 0.0\n",
    "    tot_cf = 0.0\n",
    "    tot_cr = 0.0\n",
    "    tot_cs = 0.0\n",
    "    tot_p_ego = 0.0\n",
    "    tot_a_ego = 0.0\n",
    "    # print(scene_results[0])\n",
    "    for scene_id in scene_results:\n",
    "        scene_metrics = scene_results[scene_id]\n",
    "        ade_error = scene_metrics[\"displacement_error_l2\"][1:].mean()\n",
    "        fde_error = scene_metrics['displacement_error_l2'][-1]\n",
    "        drt_error = scene_metrics['distance_to_reference_trajectory'][-1]\n",
    "        cf_error = scene_metrics['collision_front'][-1]\n",
    "        cr_error = scene_metrics['collision_rear'][-1]\n",
    "        cs_error = scene_metrics['collision_side'][-1]\n",
    "        p_ego = scene_metrics['simulated_minus_recorded_ego_speed'][-1]\n",
    "        # a_ego = scene_metrics['aggressive_ego'][-1]\n",
    "        table.add_row([scene_id, round(fde_error.item(), 4), round(ade_error.item(), 4), round(drt_error.item(), 4), round(cf_error.item(), 4), round(cr_error.item(), 4), \n",
    "        round(cs_error.item(), 4), round(p_ego.item(), 4)])\n",
    "        tot_fde += fde_error.item()\n",
    "        tot_ade += ade_error.item()\n",
    "        tot_drt += drt_error.item()\n",
    "        tot_cf += cf_error.item()\n",
    "        tot_cr += cr_error.item()\n",
    "        tot_cs += cs_error.item()\n",
    "        tot_p_ego += p_ego.item()\n",
    "        # tot_a_ego += a_ego.item()\n",
    "\n",
    "    ave_fde = tot_fde / len(scene_results)\n",
    "    ave_ade = tot_ade / len(scene_results)\n",
    "    ave_drt = tot_drt / len(scene_results)\n",
    "    ave_cf = tot_cf / len(scene_results)\n",
    "    ave_cr = tot_cr / len(scene_results)\n",
    "    ave_cs = tot_cs / len(scene_results)\n",
    "    ave_p_ego = tot_p_ego / len(scene_results)\n",
    "    # ave_a_ego = tot_a_ego / len(scene_results)\n",
    "    table.add_row([\"Overall\", round(ave_fde, 4), round(ave_ade, 4), round(ave_drt, 4), round(ave_cf, 4), round(ave_cr, 4), round(ave_cs, 4), round(ave_p_ego, 4)])\n",
    "    print(table)\n",
    "\n",
    "\n",
    "quantify_outputs(sim_outs)"
   ]
  },
  {
   "cell_type": "code",
   "execution_count": null,
   "id": "33b15d3b-2474-4004-b91e-d782a4ddb73f",
   "metadata": {},
   "outputs": [],
   "source": []
  }
 ],
 "metadata": {
  "colab": {
   "collapsed_sections": [
    "Fag3VuhPnRZT",
    "xHfH5HGWoTD7",
    "eBwt9neMoj9h",
    "0CAZm9UDo1C0"
   ],
   "provenance": []
  },
  "gpuClass": "standard",
  "kernelspec": {
   "display_name": "Python 3 (ipykernel)",
   "language": "python",
   "name": "python3"
  },
  "language_info": {
   "codemirror_mode": {
    "name": "ipython",
    "version": 3
   },
   "file_extension": ".py",
   "mimetype": "text/x-python",
   "name": "python",
   "nbconvert_exporter": "python",
   "pygments_lexer": "ipython3",
   "version": "3.7.11"
  },
  "vscode": {
   "interpreter": {
    "hash": "6df7c2a3d813445d6b3c74a479f8d37af444dbb4628cead36b7b0d6872de20bd"
   }
  }
 },
 "nbformat": 4,
 "nbformat_minor": 5
}
